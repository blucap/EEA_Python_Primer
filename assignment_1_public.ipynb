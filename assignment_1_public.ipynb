{
 "cells": [
  {
   "cell_type": "markdown",
   "id": "b6a994a9",
   "metadata": {},
   "source": [
    "# Session 5: Data munging with Pandas - Assignment"
   ]
  },
  {
   "cell_type": "markdown",
   "id": "53e48b34",
   "metadata": {},
   "source": [
    "## [EAA - ARC Python Primer for Accounting Research](https://martien.netlify.app/book/example/)"
   ]
  },
  {
   "cell_type": "markdown",
   "id": "1c56e4c9",
   "metadata": {},
   "source": [
    "### Using Pandas to explore, manage, clean data, deal with missing observations of US bank holding companies.\n",
    "## Assignment - to be published after Session 5\n",
    "---\n",
    "\n",
    "This assignment requires you to munge and explore accounting data of U.S. Bank Holding Companies. The reason I chose this data is that it offers freely available and highly structured accounting data, with a long history, comprising many banks.\n",
    "\n",
    "The main source of data is the [Financial Data Download section](https://www.ffiec.gov/npw/FinancialReport/FinancialDataDownload?selectedyear=2020) of the [National Information Center](https://www.ffiec.gov/npw).\n",
    "\n",
    "Individual Consolidated Financial Statements for Holding Companies on form *FR Y-9C*  can be downloaded via this [link](https://www.ffiec.gov/npw/).\n",
    "\n",
    "For documentation  of the form *FR Y-9C*, see this [link](https://www.federalreserve.gov/apps/reportforms/reporthistory.aspx?sOoYJ+5BzDal8cbqnRxZRg==).\n",
    "\n",
    "I encourage you to download an *FR Y-9C* copy, say, from Citigroup, via this [link](https://www.ffiec.gov/npw/Institution/Profile/1951350?dt=20170701). This enables you to quickly understand the variable names. \n",
    "\n",
    "The [Micro Data Reference Manual](https://www.federalreserve.gov/apps/mdrm/) gives you comprehensive dictionary of the variables used. \n",
    "\n"
   ]
  },
  {
   "cell_type": "markdown",
   "id": "d160432b",
   "metadata": {},
   "source": [
    "**Required**:\n",
    "\n",
    "From the FIC website, **download the BHC data** for [2019](https://www.ffiec.gov/npw/FinancialReport/FinancialDataDownload?selectedyear=2019),  [2020](https://www.ffiec.gov/npw/FinancialReport/FinancialDataDownload?selectedyear=2020), and  [2021](https://www.ffiec.gov/npw/FinancialReport/FinancialDataDownload?selectedyear=2021). \n",
    "\n",
    "**Save** the files to a folder on your drive, e.g. `D:/users/my_user_name_here/EAA_python/code/`. The files are zip- compressed `BHCF20200331.ZIP`, `BHCF20211231.ZIP` - **but there is no need to extract the contents of the zip files**. Pandas will do that for you.\n",
    "\n",
    "Run the cells below after setting the correct source folder of your files, i.e. replace `my_user_name_here` with something that works on your machine. See this [link](https://www.youtube.com/watch?v=hUW5MEKDtMM) and this [link](https://www.youtube.com/watch?v=7ABkcHLdG_A) for explanations of folders and directories."
   ]
  },
  {
   "cell_type": "markdown",
   "id": "cc2c3a48",
   "metadata": {},
   "source": [
    "---\n",
    "\n",
    "**To be published after Session 5**"
   ]
  }
 ],
 "metadata": {
  "kernelspec": {
   "display_name": "Python 3 (ipykernel)",
   "language": "python",
   "name": "python3"
  },
  "language_info": {
   "codemirror_mode": {
    "name": "ipython",
    "version": 3
   },
   "file_extension": ".py",
   "mimetype": "text/x-python",
   "name": "python",
   "nbconvert_exporter": "python",
   "pygments_lexer": "ipython3",
   "version": "3.8.12"
  }
 },
 "nbformat": 4,
 "nbformat_minor": 5
}
