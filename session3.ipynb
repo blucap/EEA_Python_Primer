{
 "cells": [
  {
   "cell_type": "markdown",
   "id": "45cf212c",
   "metadata": {},
   "source": [
    "# Session 3: Python commands and variable types."
   ]
  },
  {
   "cell_type": "markdown",
   "id": "7829d1ae",
   "metadata": {},
   "source": [
    "## [EAA - ARC Python Primer for Accounting Research](https://martien.netlify.app/book/example/)"
   ]
  },
  {
   "cell_type": "markdown",
   "id": "ea909e7e",
   "metadata": {},
   "source": [
    "#### This notebook explains the main Python variable types. It uses a file with Bank Holding Company financial data from the National Information Center. \n",
    "Click [here](https://www.ffiec.gov/npw/FinancialReport/FinancialDataDownload?selectedyear=2020) to download the file [BHCF20201231.ZIP](https://www.ffiec.gov/npw/FinancialReport/FinancialDataDownload?selectedyear=2020) and save it file to a folder on your PC, e.g. `D:/Users/myusername/EAA_python/code/`. \n",
    "\n",
    "Note, the file is a csv file, but you **do not** have to **unzip** the file!\n",
    "\n",
    "---\n",
    "\n",
    "The cells below demonstrate the following data types:\n",
    "\n",
    "+ Strings\n",
    "+ Integers\n",
    "+ Tuples\n",
    "+ Floats\n",
    "+ Booleans\n",
    "+ Date variables\n",
    "+ Lists\n",
    "+ Dictionaries\n",
    "\n",
    "The cells below also demonstrate:\n",
    "\n",
    "+ if-then-else statements\n",
    "+ pretty printing numbers\n",
    "+ a function that acts like a judge\n",
    "\n",
    "The output of this notebook generates a data frame that it exports to Stata, including the variable labels. \n",
    "\n",
    "---"
   ]
  },
  {
   "cell_type": "markdown",
   "id": "5cbfdd3a",
   "metadata": {},
   "source": [
    "Open Spyder or a Jupyter notebook and make a habit of entering these three lines in the editor pane (Spyder) or cell (Jupyter).\n",
    "\n",
    "---"
   ]
  },
  {
   "cell_type": "code",
   "execution_count": null,
   "id": "91e935cb",
   "metadata": {},
   "outputs": [],
   "source": [
    "import os\n",
    "import pandas as pd\n",
    "import numpy as np"
   ]
  },
  {
   "cell_type": "markdown",
   "id": "2869d58e",
   "metadata": {},
   "source": [
    "---\n",
    "\n",
    "Using the following commands, I set the working folder, the location on your hard drive where you will store data for this session."
   ]
  },
  {
   "cell_type": "code",
   "execution_count": null,
   "id": "dcdf6b82",
   "metadata": {},
   "outputs": [],
   "source": [
    "if os.name=='nt':  # for Windows users\n",
    "    os.chdir('D:/users/martien/EAA_python/code/')  # note the forward slashes, change 'martien' to your user name\n",
    "else:\n",
    "    os.chdir('/home/martien/EAA_python/code/')  # For Linux or Mac "
   ]
  },
  {
   "cell_type": "markdown",
   "id": "0a012ba7",
   "metadata": {},
   "source": [
    "Press \\[CTRL-ENTER\\] to execute the cell code. \n",
    "\n",
    "---\n",
    "\n",
    "Note that I use cells in the Jupyter to execute bits of code. Spyder has the same functionality if you add \n",
    "\n",
    "`#%%`\n",
    "\n",
    "`before and after`\n",
    "\n",
    "`#%%`\n",
    "\n",
    "your code snippet.\n",
    "\n",
    "---"
   ]
  },
  {
   "cell_type": "markdown",
   "id": "5a547a8d",
   "metadata": {},
   "source": [
    "Download 'BHCF20201231.ZIP' from [https://www.ffiec.gov/npw/FinancialReport/FinancialDataDownload?selectedyear=2020](https://www.ffiec.gov/npw/FinancialReport/FinancialDataDownload?selectedyear=2020) \n",
    "and save it to the folder mentioned in the cell above."
   ]
  },
  {
   "cell_type": "markdown",
   "id": "b20c8079",
   "metadata": {},
   "source": [
    "---\n",
    "#### My first **string**: `fname`.\n",
    "\n",
    "I assign the string 'BHCF20201231.ZIP' to the variable `fname`: "
   ]
  },
  {
   "cell_type": "code",
   "execution_count": null,
   "id": "ea547246",
   "metadata": {},
   "outputs": [],
   "source": [
    "fname = 'BHCF20201231.ZIP'\n",
    "print(fname)"
   ]
  },
  {
   "cell_type": "markdown",
   "id": "1f47f09d",
   "metadata": {},
   "source": [
    "I use the string to load the Bank Holding Company financial data from the folder `../EAA_python/code/`, see the explanation above.\n",
    "\n",
    "Normally you can use the command `df = pd.read_csv(fname)`, but that generates an ugly error message.\n",
    "\n",
    "Instead I use: "
   ]
  },
  {
   "cell_type": "code",
   "execution_count": null,
   "id": "cb02aff0",
   "metadata": {},
   "outputs": [],
   "source": [
    "df = pd.read_csv(fname, sep='^', encoding = \"ISO-8859-1\", low_memory=False)"
   ]
  },
  {
   "cell_type": "markdown",
   "id": "ecc7960a",
   "metadata": {},
   "source": [
    "Which aknowledges the funny separator (^) the FED uses as a field separator, the file encoding, and the fact that it is a big file. \n",
    "\n",
    "We do not have to worry about the fact that the file is compressed (zip). \n",
    "\n",
    "---"
   ]
  },
  {
   "cell_type": "markdown",
   "id": "8280273a",
   "metadata": {},
   "source": [
    "Very basic string manipulations:"
   ]
  },
  {
   "cell_type": "code",
   "execution_count": null,
   "id": "884705f2",
   "metadata": {},
   "outputs": [],
   "source": [
    "fname = 'BHCF20201231' + '.ZIP'\n",
    "print(fname)"
   ]
  },
  {
   "cell_type": "code",
   "execution_count": null,
   "id": "c4c2ff78",
   "metadata": {},
   "outputs": [],
   "source": [
    "fname = fname.lower()\n",
    "print(fname)\n",
    "fname = fname.upper()\n",
    "print(fname)"
   ]
  },
  {
   "cell_type": "markdown",
   "id": "da8560e0",
   "metadata": {},
   "source": [
    "Trimming"
   ]
  },
  {
   "cell_type": "code",
   "execution_count": null,
   "id": "1cd06209",
   "metadata": {},
   "outputs": [],
   "source": [
    "fname = \"    \" + fname + \"    \"\n",
    "print(fname,'.')\n",
    "fname = fname.strip()\n",
    "print(fname)"
   ]
  },
  {
   "cell_type": "markdown",
   "id": "cdb1260d",
   "metadata": {},
   "source": [
    "Explore the file using head and tail:"
   ]
  },
  {
   "cell_type": "code",
   "execution_count": null,
   "id": "7e6fd9b7",
   "metadata": {},
   "outputs": [],
   "source": [
    "df.head()"
   ]
  },
  {
   "cell_type": "code",
   "execution_count": null,
   "id": "e368689b",
   "metadata": {},
   "outputs": [],
   "source": [
    "df.tail()"
   ]
  },
  {
   "cell_type": "markdown",
   "id": "def8bb95",
   "metadata": {},
   "source": [
    "#### My first **Integer**: `nrows`.\n",
    "This shows the number of rows in the data frame."
   ]
  },
  {
   "cell_type": "code",
   "execution_count": null,
   "id": "93c355e7",
   "metadata": {},
   "outputs": [],
   "source": [
    "nrows = len(df)\n",
    "print(nrows)"
   ]
  },
  {
   "cell_type": "markdown",
   "id": "8758df7a",
   "metadata": {},
   "source": [
    "---\n",
    "Count the number of valid observations for Total Assets (BHCK2170)"
   ]
  },
  {
   "cell_type": "code",
   "execution_count": null,
   "id": "20a47aa6",
   "metadata": {},
   "outputs": [],
   "source": [
    "n_of_ta = df['BHCK2170'].count()\n",
    "print(n_of_ta)"
   ]
  },
  {
   "cell_type": "markdown",
   "id": "5cb32a09",
   "metadata": {},
   "source": [
    "---\n",
    "#### My first **tuple**: `coordinate`."
   ]
  },
  {
   "cell_type": "code",
   "execution_count": null,
   "id": "99d5bec2",
   "metadata": {},
   "outputs": [],
   "source": [
    "coordinate =  (47.559601, 7.588576)\n",
    "coordinate[0]"
   ]
  },
  {
   "cell_type": "code",
   "execution_count": null,
   "id": "777a3f42",
   "metadata": {},
   "outputs": [],
   "source": [
    "coordinate[1]"
   ]
  },
  {
   "cell_type": "markdown",
   "id": "9f62a3a4",
   "metadata": {},
   "source": [
    "#### Another **Tuple**:"
   ]
  },
  {
   "cell_type": "code",
   "execution_count": null,
   "id": "fde63426",
   "metadata": {},
   "outputs": [],
   "source": [
    "nrows, ncols = df.shape\n",
    "print(nrows, ncols)"
   ]
  },
  {
   "cell_type": "code",
   "execution_count": null,
   "id": "fb53ed07",
   "metadata": {},
   "outputs": [],
   "source": [
    "len(df)"
   ]
  },
  {
   "cell_type": "code",
   "execution_count": null,
   "id": "d6e162f2",
   "metadata": {},
   "outputs": [],
   "source": [
    "df.shape[0]"
   ]
  },
  {
   "cell_type": "code",
   "execution_count": null,
   "id": "45a0d996",
   "metadata": {},
   "outputs": [],
   "source": [
    "df.shape[1]"
   ]
  },
  {
   "cell_type": "markdown",
   "id": "620efb19",
   "metadata": {},
   "source": [
    "---\n",
    "#### My first **float**: `max_ta`."
   ]
  },
  {
   "cell_type": "code",
   "execution_count": null,
   "id": "1795888f",
   "metadata": {},
   "outputs": [],
   "source": [
    "max_ta = df['BHCK2170'].max()\n",
    "max_ta"
   ]
  },
  {
   "cell_type": "code",
   "execution_count": null,
   "id": "f6667e6c",
   "metadata": {},
   "outputs": [],
   "source": [
    "min_ta = df['BHCK2170'].min()\n",
    "min_ta"
   ]
  },
  {
   "cell_type": "markdown",
   "id": "8d2324df",
   "metadata": {},
   "source": [
    "#### Printing"
   ]
  },
  {
   "cell_type": "code",
   "execution_count": null,
   "id": "f9333866",
   "metadata": {},
   "outputs": [],
   "source": [
    "print(max_ta)\n",
    "print()\n",
    "print('Maximum value of Total assets: ', max_ta)\n",
    "print('Maximum value of Total assets: ', int(max_ta)) # convert to integer\n",
    "print('Maximum value of Total assets: {:,.0f}'.format(max_ta))  # format method version\n",
    "print(f\"Maximum value of Total assets: ${max_ta:,.0f}, minimum value: ${min_ta:,.0f}\")  # f-string version\n",
    "print(f\"\\nMaximum value of Total assets: ${max_ta:,.0f}, minimum value: ${min_ta:,.0f}\\n(in thousands).\")"
   ]
  },
  {
   "cell_type": "markdown",
   "id": "d67caeb1",
   "metadata": {},
   "source": [
    "---\n",
    "#### In 2006, the threshold for filing FR Y-9C forms changed from \\\\$150 million in total assets to \\\\$500 million in total assets."
   ]
  },
  {
   "cell_type": "markdown",
   "id": "75554a66",
   "metadata": {},
   "source": [
    "Before we can check if smaller banks file the form nevertheless, we should divide Total Asset values by 1,000, convert values to millions:"
   ]
  },
  {
   "cell_type": "code",
   "execution_count": null,
   "id": "a4458f75",
   "metadata": {},
   "outputs": [],
   "source": [
    "min_ta = min_ta / 1000\n",
    "min_ta"
   ]
  },
  {
   "cell_type": "markdown",
   "id": "bb8148dc",
   "metadata": {},
   "source": [
    "But easier is this, using the division operator followed by the equal sign:"
   ]
  },
  {
   "cell_type": "code",
   "execution_count": null,
   "id": "0596c717",
   "metadata": {},
   "outputs": [],
   "source": [
    "min_ta = df['BHCK2170'].min()  # Obain again the minimum value for Total Assets:\n",
    "print(min_ta)\n",
    "min_ta /= 1000\n",
    "print('Minumum valube of Total assets, in millions: ${:,.2f}'.format(min_ta))"
   ]
  },
  {
   "cell_type": "markdown",
   "id": "ea54119c",
   "metadata": {},
   "source": [
    "Likewise, using the same method for adding numbers:"
   ]
  },
  {
   "cell_type": "code",
   "execution_count": null,
   "id": "0ba13fe3",
   "metadata": {},
   "outputs": [],
   "source": [
    "a = 1\n",
    "print(a)\n",
    "a += 1\n",
    "print(a)"
   ]
  },
  {
   "cell_type": "markdown",
   "id": "78c9cabd",
   "metadata": {},
   "source": [
    "---\n",
    "#### The **if-statement**:"
   ]
  },
  {
   "cell_type": "code",
   "execution_count": null,
   "id": "7a3475df",
   "metadata": {},
   "outputs": [],
   "source": [
    "print('Total assets, lowest value in data frame: ${:,.0f} million.'.format(min_ta))\n",
    "if min_ta > 500:\n",
    "    print('Above threshold')\n",
    "else:\n",
    "    print('Below threshold')"
   ]
  },
  {
   "cell_type": "markdown",
   "id": "a94d5b08",
   "metadata": {},
   "source": [
    "Note the indents, which is characteristic for Python\n",
    "\n",
    "Likewise:"
   ]
  },
  {
   "cell_type": "code",
   "execution_count": null,
   "id": "6cfb33ef",
   "metadata": {},
   "outputs": [],
   "source": [
    "if max_ta/1000 > 500:\n",
    "    print('Above threshold')\n",
    "else:\n",
    "    print('Below threshold')"
   ]
  },
  {
   "cell_type": "markdown",
   "id": "3212c1d2",
   "metadata": {},
   "source": [
    "---\n",
    "Most operators are straightforward: + - * / etc. See for documentation this [site](https://www.w3schools.com/python/python_operators.asp).\n",
    "\n",
    "But note these two:"
   ]
  },
  {
   "cell_type": "code",
   "execution_count": null,
   "id": "53e114d1",
   "metadata": {},
   "outputs": [],
   "source": [
    "min_ta ** 2  # squared"
   ]
  },
  {
   "cell_type": "code",
   "execution_count": null,
   "id": "28644915",
   "metadata": {},
   "outputs": [],
   "source": [
    "min_ta ** 0.5  # square root"
   ]
  },
  {
   "cell_type": "markdown",
   "id": "45bc1e27",
   "metadata": {},
   "source": [
    "---\n",
    "#### My first **boolean** variable: `low_mem`."
   ]
  },
  {
   "cell_type": "code",
   "execution_count": null,
   "id": "c8767fcd",
   "metadata": {},
   "outputs": [],
   "source": [
    "low_mem = False\n",
    "df = pd.read_csv(fname, sep='^', encoding = \"ISO-8859-1\", low_memory=low_mem)"
   ]
  },
  {
   "cell_type": "markdown",
   "id": "ca5f6232",
   "metadata": {},
   "source": [
    "Note that the result of `ncols == nrows` in the if-statement below is a boolean:"
   ]
  },
  {
   "cell_type": "code",
   "execution_count": null,
   "id": "b6597769",
   "metadata": {},
   "outputs": [],
   "source": [
    "if ncols == nrows:\n",
    "    print('Square dataframe')\n",
    "else:\n",
    "    print('Rectangular dataframe')"
   ]
  },
  {
   "cell_type": "markdown",
   "id": "dfff3718",
   "metadata": {},
   "source": [
    "If-statements can take up many lines. \n",
    "\n",
    "The **ternary operator**, however, allows you to write an if-statement in a single line:"
   ]
  },
  {
   "cell_type": "code",
   "execution_count": null,
   "id": "49ffaa6e",
   "metadata": {},
   "outputs": [],
   "source": [
    "guilty = True\n",
    "verdict = \"Innocent\" if not guilty else \"Guilty\"\n",
    "print(verdict)"
   ]
  },
  {
   "cell_type": "markdown",
   "id": "26c8a7f3",
   "metadata": {},
   "source": [
    "Let's write a function and play judge:"
   ]
  },
  {
   "cell_type": "code",
   "execution_count": null,
   "id": "cfffc589",
   "metadata": {},
   "outputs": [],
   "source": [
    "def judge(guilty_or_not):\n",
    "    verdict = \"innocent\" if not guilty_or_not else \"guilty\"\n",
    "    return 'The defendant is '+verdict\n",
    "    \n",
    "judge(True)"
   ]
  },
  {
   "cell_type": "code",
   "execution_count": null,
   "id": "b3f92a4e",
   "metadata": {},
   "outputs": [],
   "source": [
    "judge(False)  "
   ]
  },
  {
   "cell_type": "markdown",
   "id": "0d6b9afe",
   "metadata": {},
   "source": [
    "Likewise:"
   ]
  },
  {
   "cell_type": "code",
   "execution_count": null,
   "id": "0350421d",
   "metadata": {},
   "outputs": [],
   "source": [
    "text = \"Square \" if ncols == nrows else 'Rectangular '\n",
    "print(text + 'dataframe')"
   ]
  },
  {
   "cell_type": "markdown",
   "id": "761cf780",
   "metadata": {},
   "source": [
    "If-statement with multiple choices:"
   ]
  },
  {
   "cell_type": "code",
   "execution_count": null,
   "id": "09715d20",
   "metadata": {},
   "outputs": [],
   "source": [
    "if ncols == nrows:\n",
    "    print('Square dataframe')\n",
    "elif ncols > nrows:  # you can add more elifs\n",
    "    print('Wide dataframe')\n",
    "else:\n",
    "    print('Narrow dataframe')"
   ]
  },
  {
   "cell_type": "markdown",
   "id": "b9a13c4f",
   "metadata": {},
   "source": [
    "---\n",
    "#### My first **datetime** variabele: `datadate`\n",
    "\n",
    "To work with date variables, please import the datetime library first:"
   ]
  },
  {
   "cell_type": "code",
   "execution_count": null,
   "id": "264e0948",
   "metadata": {},
   "outputs": [],
   "source": [
    "from datetime import datetime"
   ]
  },
  {
   "cell_type": "code",
   "execution_count": null,
   "id": "de2f2e6b",
   "metadata": {},
   "outputs": [],
   "source": [
    "datadate = df['RSSD9999'].max()\n",
    "print(datadate)"
   ]
  },
  {
   "cell_type": "code",
   "execution_count": null,
   "id": "f950c936",
   "metadata": {},
   "outputs": [],
   "source": [
    "datadate = df['RSSD9999'].min()\n",
    "print(datadate)\n",
    "datadate = str(datadate)  # Turn into a string\n",
    "print(datadate)\n",
    "datadate = datetime.strptime(datadate, '%Y%m%d')  # Convert to a datetime variable\n",
    "print(datadate)"
   ]
  },
  {
   "cell_type": "markdown",
   "id": "9a6f91fb",
   "metadata": {},
   "source": [
    "Once a datetime variable, Python can properly work with it:"
   ]
  },
  {
   "cell_type": "code",
   "execution_count": null,
   "id": "04ca1332",
   "metadata": {},
   "outputs": [],
   "source": [
    "datadate.strftime('%m-%d-%Y')  # String from time"
   ]
  },
  {
   "cell_type": "code",
   "execution_count": null,
   "id": "05df13c4",
   "metadata": {},
   "outputs": [],
   "source": [
    "datadate.strftime('%d %m %y')  # String from time"
   ]
  },
  {
   "cell_type": "markdown",
   "id": "bb6e77ee",
   "metadata": {},
   "source": [
    "Extract year, month, day, quarter"
   ]
  },
  {
   "cell_type": "code",
   "execution_count": null,
   "id": "3431bb1a",
   "metadata": {},
   "outputs": [],
   "source": [
    "print(f\"Year: {datadate.year}\")\n",
    "print(f\"Month: {datadate.month}\")\n",
    "print(f\"Day: {datadate.day}\")\n",
    "print(f\"Quarter: {(datadate.month-1)//3+1}\")"
   ]
  },
  {
   "cell_type": "markdown",
   "id": "2b311b78",
   "metadata": {},
   "source": [
    "---\n",
    "More flexible is the use of `parser`, which copes with most date formats:"
   ]
  },
  {
   "cell_type": "code",
   "execution_count": null,
   "id": "9991ca01",
   "metadata": {},
   "outputs": [],
   "source": [
    "from dateutil.parser import parse\n",
    "\n",
    "print(parse(\"31;12;2001\"))"
   ]
  },
  {
   "cell_type": "code",
   "execution_count": null,
   "id": "6d627c99",
   "metadata": {},
   "outputs": [],
   "source": [
    "# and for U.S. notation:\n",
    "print(parse(\"9/11/2001\", dayfirst=False))"
   ]
  },
  {
   "cell_type": "markdown",
   "id": "733a88c0",
   "metadata": {},
   "source": [
    "---\n",
    "Calculations with dates: lapsed days."
   ]
  },
  {
   "cell_type": "code",
   "execution_count": null,
   "id": "02c507f2",
   "metadata": {},
   "outputs": [],
   "source": [
    "delta = datetime.now() - datadate\n",
    "\n",
    "print(f\"Days from year-end of the data frame: {delta.days}\")"
   ]
  },
  {
   "cell_type": "markdown",
   "id": "cfda90c2",
   "metadata": {},
   "source": [
    "---\n",
    "Calculations with dates: determine a future date."
   ]
  },
  {
   "cell_type": "code",
   "execution_count": null,
   "id": "191a1fb5",
   "metadata": {},
   "outputs": [],
   "source": [
    "from datetime import timedelta\n",
    "fdate = datadate + timedelta(90)  # Filing deadline assumed to be 90 days after year-end\n",
    "print(fdate)\n",
    "fdate = fdate.strftime('%d/%m/%Y')\n",
    "print(f\"10K filing date: \" + fdate)"
   ]
  },
  {
   "cell_type": "markdown",
   "id": "4f4ce03d",
   "metadata": {},
   "source": [
    "---\n",
    "#### My first **list**: `months`"
   ]
  },
  {
   "cell_type": "code",
   "execution_count": null,
   "id": "1ae7c618",
   "metadata": {},
   "outputs": [],
   "source": [
    "months = 'JAN,FEB,MAR,APR,MAY,JUN,JUL,AUG,SEP,OCT,NOV,DEC' # String\n",
    "print(months + '\\n')\n",
    "months = months.split(\",\")\n",
    "print(months)"
   ]
  },
  {
   "cell_type": "markdown",
   "id": "d39c4754",
   "metadata": {},
   "source": [
    "Likewise:"
   ]
  },
  {
   "cell_type": "code",
   "execution_count": null,
   "id": "798dba64",
   "metadata": {},
   "outputs": [],
   "source": [
    "month_num = [1, 2, 3, 4, 5, 6, 7, 8, 9, 10, 11, 12]\n",
    "print(month_num)"
   ]
  },
  {
   "cell_type": "markdown",
   "id": "d8b9a860",
   "metadata": {},
   "source": [
    "#### Slicing lists\n",
    "\n",
    "The syntax for slicing is `list[start:stop:step]`.\n",
    "\n",
    "Note that Python counts from zero, not one:"
   ]
  },
  {
   "cell_type": "code",
   "execution_count": null,
   "id": "e5515343",
   "metadata": {},
   "outputs": [],
   "source": [
    "months[0:3]"
   ]
  },
  {
   "cell_type": "code",
   "execution_count": null,
   "id": "62a0a5be",
   "metadata": {},
   "outputs": [],
   "source": [
    "months[5:]"
   ]
  },
  {
   "cell_type": "code",
   "execution_count": null,
   "id": "3ca5cd87",
   "metadata": {},
   "outputs": [],
   "source": [
    "months[-3:]"
   ]
  },
  {
   "cell_type": "code",
   "execution_count": null,
   "id": "1ac179ea",
   "metadata": {},
   "outputs": [],
   "source": [
    "months[-6:-3]"
   ]
  },
  {
   "cell_type": "code",
   "execution_count": null,
   "id": "c208c790",
   "metadata": {},
   "outputs": [],
   "source": [
    "col_names = df.columns\n",
    "print(list(col_names)[0::100])  # I am not going to list all variables!"
   ]
  },
  {
   "cell_type": "markdown",
   "id": "4f291500",
   "metadata": {},
   "source": [
    "#### Reversing lists"
   ]
  },
  {
   "cell_type": "code",
   "execution_count": null,
   "id": "3625e924",
   "metadata": {},
   "outputs": [],
   "source": [
    "months[::-1]"
   ]
  },
  {
   "cell_type": "markdown",
   "id": "c9d930f2",
   "metadata": {},
   "source": [
    "Adding to list:"
   ]
  },
  {
   "cell_type": "code",
   "execution_count": null,
   "id": "8be32727",
   "metadata": {},
   "outputs": [],
   "source": [
    "month_num = month_num + [13]\n",
    "month_num"
   ]
  },
  {
   "cell_type": "markdown",
   "id": "ad372508",
   "metadata": {},
   "source": [
    "Deleting from list:"
   ]
  },
  {
   "cell_type": "code",
   "execution_count": null,
   "id": "b54b4fd9",
   "metadata": {},
   "outputs": [],
   "source": [
    "del month_num[11]  # position\n",
    "month_num"
   ]
  },
  {
   "cell_type": "markdown",
   "id": "4530c6dd",
   "metadata": {},
   "source": [
    "Restoring that list:"
   ]
  },
  {
   "cell_type": "code",
   "execution_count": null,
   "id": "b2e2abfd",
   "metadata": {},
   "outputs": [],
   "source": [
    "month_num = list(range(1, 13))\n",
    "month_num"
   ]
  },
  {
   "cell_type": "markdown",
   "id": "6f79661d",
   "metadata": {},
   "source": [
    "Removing from list"
   ]
  },
  {
   "cell_type": "code",
   "execution_count": null,
   "id": "e31aaa7d",
   "metadata": {},
   "outputs": [],
   "source": [
    "months.remove('DEC')\n",
    "months"
   ]
  },
  {
   "cell_type": "markdown",
   "id": "c26fd809",
   "metadata": {},
   "source": [
    "Restoring that list:"
   ]
  },
  {
   "cell_type": "code",
   "execution_count": null,
   "id": "73acd3e8",
   "metadata": {},
   "outputs": [],
   "source": [
    "months = months + ['DEC']\n",
    "months"
   ]
  },
  {
   "cell_type": "markdown",
   "id": "763cdeaf",
   "metadata": {},
   "source": [
    "---\n",
    "Sorting lists"
   ]
  },
  {
   "cell_type": "code",
   "execution_count": null,
   "id": "3437c24d",
   "metadata": {},
   "outputs": [],
   "source": [
    "month_num.sort()\n",
    "month_num"
   ]
  },
  {
   "cell_type": "code",
   "execution_count": null,
   "id": "92bf8c5b",
   "metadata": {},
   "outputs": [],
   "source": [
    "month_num.sort(reverse = True)\n",
    "month_num"
   ]
  },
  {
   "cell_type": "markdown",
   "id": "35782342",
   "metadata": {},
   "source": [
    "Restoring order:"
   ]
  },
  {
   "cell_type": "code",
   "execution_count": null,
   "id": "bfd6f948",
   "metadata": {},
   "outputs": [],
   "source": [
    "month_num.sort()\n",
    "print(month_num)\n"
   ]
  },
  {
   "cell_type": "markdown",
   "id": "7abd800c",
   "metadata": {},
   "source": [
    "---\n",
    "### List comprehension\n",
    "\n",
    "List comprehension allows one to quickly iterate over a list. This is often much more efficient than using a traditional for-next loop:\n",
    "\n",
    "---\n",
    "\n",
    "The hard way:"
   ]
  },
  {
   "cell_type": "code",
   "execution_count": null,
   "id": "6e2c073a",
   "metadata": {},
   "outputs": [],
   "source": [
    "for x in range(0, 12):\n",
    "    print(x, months[x])"
   ]
  },
  {
   "cell_type": "markdown",
   "id": "d0eee0d1",
   "metadata": {},
   "source": [
    "---\n",
    "It is better to use this instead:"
   ]
  },
  {
   "cell_type": "code",
   "execution_count": null,
   "id": "06e65740",
   "metadata": {},
   "outputs": [],
   "source": [
    "for x in months:\n",
    "    print(x)"
   ]
  },
  {
   "cell_type": "markdown",
   "id": "2adabd94",
   "metadata": {},
   "source": [
    "The approaches above create a variable (`x`), which we probably won't use going forward."
   ]
  },
  {
   "cell_type": "code",
   "execution_count": null,
   "id": "822f145f",
   "metadata": {},
   "outputs": [],
   "source": [
    "print(x) "
   ]
  },
  {
   "cell_type": "markdown",
   "id": "0d3c66ec",
   "metadata": {},
   "source": [
    "Let's try list comprehension, which creates a new list:"
   ]
  },
  {
   "cell_type": "code",
   "execution_count": null,
   "id": "2b083164",
   "metadata": {},
   "outputs": [],
   "source": [
    "[y for y in months]"
   ]
  },
  {
   "cell_type": "code",
   "execution_count": null,
   "id": "cbd29902",
   "metadata": {},
   "outputs": [],
   "source": [
    "'y' in locals()  # No y-variable to be seen!"
   ]
  },
  {
   "cell_type": "markdown",
   "id": "17d614e9",
   "metadata": {},
   "source": [
    "I can also edit the items in the list, for example by adding a characters (`Q-`) before the month: "
   ]
  },
  {
   "cell_type": "code",
   "execution_count": null,
   "id": "7a032162",
   "metadata": {},
   "outputs": [],
   "source": [
    "[\"Q-\"+x for x in months]"
   ]
  },
  {
   "cell_type": "markdown",
   "id": "94f19663",
   "metadata": {},
   "source": [
    "Or select months starting with a `J` and convert them to lower case:"
   ]
  },
  {
   "cell_type": "code",
   "execution_count": null,
   "id": "6bf35c15",
   "metadata": {},
   "outputs": [],
   "source": [
    "[x.lower() for x in months if x.startswith('J')]"
   ]
  },
  {
   "cell_type": "markdown",
   "id": "ce2fbecd",
   "metadata": {},
   "source": [
    "---\n",
    "Select from the data frame the variables that contain text:"
   ]
  },
  {
   "cell_type": "code",
   "execution_count": null,
   "id": "e6e37451",
   "metadata": {},
   "outputs": [],
   "source": [
    "text_cols = [x for x in df if x.startswith('TEXT')]\n",
    "print(len(text_cols))\n",
    "print()\n",
    "print(text_cols[::10])"
   ]
  },
  {
   "cell_type": "markdown",
   "id": "1f44e56f",
   "metadata": {},
   "source": [
    "Selecting column names starting with `RSSD`:"
   ]
  },
  {
   "cell_type": "code",
   "execution_count": null,
   "id": "0998a564",
   "metadata": {},
   "outputs": [],
   "source": [
    "rssd_cols = [x for x in df if x.startswith('RSSD')]\n",
    "print(len(rssd_cols))\n",
    "print()\n",
    "print(rssd_cols[::5])"
   ]
  },
  {
   "cell_type": "markdown",
   "id": "26aa8776",
   "metadata": {},
   "source": [
    "Selecting all other column names:"
   ]
  },
  {
   "cell_type": "code",
   "execution_count": null,
   "id": "37619b84",
   "metadata": {},
   "outputs": [],
   "source": [
    "bhc_cols = [x for x in df if not x.startswith('RSSD') and not x.startswith('TEXT')]\n",
    "print(len(bhc_cols))\n",
    "print()\n",
    "print(bhc_cols[::100])"
   ]
  },
  {
   "cell_type": "markdown",
   "id": "47c45f7a",
   "metadata": {},
   "source": [
    "Extracting the numbers from the RSSD variable codes ending with '9', then convert them in to integers:"
   ]
  },
  {
   "cell_type": "code",
   "execution_count": null,
   "id": "d5b711a5",
   "metadata": {},
   "outputs": [],
   "source": [
    "[int(x[-4:]) for x in rssd_cols if x.endswith('9')]"
   ]
  },
  {
   "cell_type": "markdown",
   "id": "127f6f6e",
   "metadata": {},
   "source": [
    "---\n",
    "#### My first **dictionary**: `weekday`\n",
    "\n",
    "Dictionaries are the Python equivalent of `=vlookup()` in Excel, but much more versatile of course!"
   ]
  },
  {
   "cell_type": "code",
   "execution_count": null,
   "id": "23aa1cb1",
   "metadata": {},
   "outputs": [],
   "source": [
    "weekday = {\"Mon\": 0, \"Tue\": 1, \"Wed\": 2, \"Thu\": 3, \"Fri\": 4, \"Sat\": 5, \"Sun\": 6}\n",
    "\n",
    "weekday[\"Thu\"]"
   ]
  },
  {
   "cell_type": "markdown",
   "id": "9c2a6822",
   "metadata": {},
   "source": [
    "Deleting a key-value pair, I don't like Mondays:"
   ]
  },
  {
   "cell_type": "code",
   "execution_count": null,
   "id": "bc638d6d",
   "metadata": {},
   "outputs": [],
   "source": [
    "del weekday['Mon']\n",
    "weekday"
   ]
  },
  {
   "cell_type": "markdown",
   "id": "43708e6b",
   "metadata": {},
   "source": [
    "Adding a key-value pair:"
   ]
  },
  {
   "cell_type": "code",
   "execution_count": null,
   "id": "74cdeece",
   "metadata": {},
   "outputs": [],
   "source": [
    "weekday['Mon'] = 0\n",
    "weekday"
   ]
  },
  {
   "cell_type": "markdown",
   "id": "f4853803",
   "metadata": {},
   "source": [
    "Check before adding"
   ]
  },
  {
   "cell_type": "code",
   "execution_count": null,
   "id": "8ab1874b",
   "metadata": {},
   "outputs": [],
   "source": [
    "if \"Sun\" in weekday:\n",
    "    print(\"Sunday is definitively there!\")\n",
    "else:\n",
    "    print(\"Sunday is missing.\")"
   ]
  },
  {
   "cell_type": "markdown",
   "id": "11337e51",
   "metadata": {},
   "source": [
    "Alternatively, using `.keys()`"
   ]
  },
  {
   "cell_type": "code",
   "execution_count": null,
   "id": "9874ba7b",
   "metadata": {},
   "outputs": [],
   "source": [
    "someday = 'Sun'\n",
    "if someday in weekday.keys():\n",
    "    print(f\"{someday}day is definitively there!\")\n",
    "else:\n",
    "    print(f\"{someday}day is missing :-(\")"
   ]
  },
  {
   "cell_type": "markdown",
   "id": "4359b25d",
   "metadata": {},
   "source": [
    "Likewise, using `.values()`"
   ]
  },
  {
   "cell_type": "markdown",
   "id": "a2c69aac",
   "metadata": {},
   "source": [
    "Check if a value is present in the dictionary:"
   ]
  },
  {
   "cell_type": "code",
   "execution_count": null,
   "id": "3149b156",
   "metadata": {},
   "outputs": [],
   "source": [
    "somedaynum = 1\n",
    "if somedaynum in weekday.values():\n",
    "    print(f\"{str(somedaynum)} is definitively there!\")  # convert somedaynum to a string first, using str()\n",
    "else:\n",
    "    print(f\"{str(somedaynum)} is missing :-(\")  # convert somedaynum to a string first, using str()\n"
   ]
  },
  {
   "cell_type": "markdown",
   "id": "b7f69b92",
   "metadata": {},
   "source": [
    "---\n",
    "Iterating over a dictionary:"
   ]
  },
  {
   "cell_type": "code",
   "execution_count": null,
   "id": "5d5cc081",
   "metadata": {},
   "outputs": [],
   "source": [
    "for key, value in weekday.items():\n",
    "    print('Key:', key, '- Value:', value)"
   ]
  },
  {
   "cell_type": "markdown",
   "id": "ae142bce",
   "metadata": {},
   "source": [
    "More efficient is this:"
   ]
  },
  {
   "cell_type": "code",
   "execution_count": null,
   "id": "39fdc12a",
   "metadata": {},
   "outputs": [],
   "source": [
    "[key for key, value in weekday.items()]  # keys"
   ]
  },
  {
   "cell_type": "code",
   "execution_count": null,
   "id": "c424967c",
   "metadata": {},
   "outputs": [],
   "source": [
    "[value for key, value in weekday.items()]  # values"
   ]
  },
  {
   "cell_type": "code",
   "execution_count": null,
   "id": "c4f147ce",
   "metadata": {},
   "outputs": [],
   "source": [
    "[key for key, value in weekday.items() if value == 3]  # select a key-value pair"
   ]
  },
  {
   "cell_type": "markdown",
   "id": "96d95fab",
   "metadata": {},
   "source": [
    "Dictionary comprehension - create a new dictionary from an existing one:"
   ]
  },
  {
   "cell_type": "code",
   "execution_count": null,
   "id": "c682620a",
   "metadata": {},
   "outputs": [],
   "source": [
    "{key:value+1 for (key, value) in weekday.items()}"
   ]
  },
  {
   "cell_type": "markdown",
   "id": "bc7a1599",
   "metadata": {},
   "source": [
    "Flipping keys and values of a dictionary:"
   ]
  },
  {
   "cell_type": "code",
   "execution_count": null,
   "id": "e7b51b76",
   "metadata": {},
   "outputs": [],
   "source": [
    "dayweek = {value: key for key, value in weekday.items()}\n",
    "dayweek"
   ]
  },
  {
   "cell_type": "code",
   "execution_count": null,
   "id": "c3a0fdf1",
   "metadata": {},
   "outputs": [],
   "source": [
    "dayweek[0]"
   ]
  },
  {
   "cell_type": "markdown",
   "id": "31fc83c4",
   "metadata": {},
   "source": [
    "Obtain values using `.get()`. This does not give an error if a key is missing. Instead it returns 'None' or a variable of choice:"
   ]
  },
  {
   "cell_type": "code",
   "execution_count": null,
   "id": "9e8b47e4",
   "metadata": {},
   "outputs": [],
   "source": [
    "print(weekday.get('Sun'))\n",
    "print(weekday.get('Sin'))\n",
    "print(weekday.get('Sin', \"The key doesn't exist\"))"
   ]
  },
  {
   "cell_type": "markdown",
   "id": "8975ddc0",
   "metadata": {},
   "source": [
    "---\n",
    "Create a dictionary from two lists:"
   ]
  },
  {
   "cell_type": "code",
   "execution_count": null,
   "id": "8016638e",
   "metadata": {},
   "outputs": [],
   "source": [
    "print(month_num)\n",
    "print(months)"
   ]
  },
  {
   "cell_type": "code",
   "execution_count": null,
   "id": "efab3a9d",
   "metadata": {},
   "outputs": [],
   "source": [
    "monts_dict = dict(zip(month_num, months))\n",
    "monts_dict"
   ]
  },
  {
   "cell_type": "markdown",
   "id": "cdc87a4e",
   "metadata": {},
   "source": [
    "---\n",
    "We can apply this to our dataframe to generate lables for the variable columns.\n",
    "\n",
    "The labels are from the  Micro Data Reference Manual [MDRM](https://www.federalreserve.gov/apps/mdrm/)."
   ]
  },
  {
   "cell_type": "code",
   "execution_count": null,
   "id": "09a941cb",
   "metadata": {},
   "outputs": [],
   "source": [
    "list(df)[::200] # these are the variable names in the data frame, way too many, so I list every 200-th item:"
   ]
  },
  {
   "cell_type": "markdown",
   "id": "6ca1f056",
   "metadata": {},
   "source": [
    "We want the names of some of the items in the data frame:"
   ]
  },
  {
   "cell_type": "code",
   "execution_count": null,
   "id": "b04d5bd5",
   "metadata": {},
   "outputs": [],
   "source": [
    "var =    ['RSSD9001', 'RSSD9999',       'BHCK2170',     'BHCK3210']\n",
    "labels = ['ID RSSD',  'Reporting date', 'Total Assets', \"Total Equity Capital\"]"
   ]
  },
  {
   "cell_type": "code",
   "execution_count": null,
   "id": "1cb842e4",
   "metadata": {},
   "outputs": [],
   "source": [
    "df[var].head(10)"
   ]
  },
  {
   "cell_type": "markdown",
   "id": "eee3fc9f",
   "metadata": {},
   "source": [
    "The dictionary:"
   ]
  },
  {
   "cell_type": "code",
   "execution_count": null,
   "id": "86446702",
   "metadata": {},
   "outputs": [],
   "source": [
    "bhc_dict = dict(zip(var, labels))\n",
    "bhc_dict"
   ]
  },
  {
   "cell_type": "markdown",
   "id": "fa1549b5",
   "metadata": {},
   "source": [
    "---\n",
    "We can now export these four variables to Stata, including the lables."
   ]
  },
  {
   "cell_type": "code",
   "execution_count": null,
   "id": "c5d72fac",
   "metadata": {},
   "outputs": [],
   "source": [
    "df[var].to_stata('my_first_stata_output.dta', write_index=False, version=114, variable_labels=bhc_dict)"
   ]
  }
 ],
 "metadata": {
  "kernelspec": {
   "display_name": "Python 3.7.6 64-bit ('base': conda)",
   "language": "python",
   "name": "python37664bitbaseconda4541c48a62ff44cf9c986a06326295cc"
  },
  "language_info": {
   "codemirror_mode": {
    "name": "ipython",
    "version": 3
   },
   "file_extension": ".py",
   "mimetype": "text/x-python",
   "name": "python",
   "nbconvert_exporter": "python",
   "pygments_lexer": "ipython3",
   "version": "3.8.12"
  }
 },
 "nbformat": 4,
 "nbformat_minor": 5
}
