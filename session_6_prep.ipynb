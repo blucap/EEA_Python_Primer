{
 "cells": [
  {
   "cell_type": "markdown",
   "id": "b6a994a9",
   "metadata": {},
   "source": [
    "# Session 6: Use Pandas to index, split, apply, and combine data."
   ]
  },
  {
   "cell_type": "markdown",
   "id": "53e48b34",
   "metadata": {},
   "source": [
    "## [EAA - ARC Python Primer for Accounting Research](https://martien.netlify.app/book/example/)"
   ]
  },
  {
   "cell_type": "markdown",
   "id": "1c56e4c9",
   "metadata": {},
   "source": [
    "### Preparation ###\n",
    "\n",
    "**Complete the cells below so that by the start of the Tuesday session you have a data frame that we can use to split, apply and combine.**\n",
    "\n",
    "At the session we will complete our analysis of the EBA Risk Dashboard data.\n",
    "\n",
    "---\n",
    "\n",
    "#### Introduction\n",
    "---\n",
    "\n",
    "The cells below demonstrate how use Use Pandas to index, split, apply, and combine data.\n",
    "\n",
    "We will download and munge data from the EBA Risk Dashboard, which is part of the regular risk assessment conducted by the EBA and complements the Risk Assessment Report. The EBA Risk Dashboard summarizes the main risks and vulnerabilities in the banking sector in the European Union (EU) by looking at the evolution of Risk Indicators (RI) among a sample of banks across the EU.\n",
    "\n",
    "The [EBA Risk Dashboard pdf](https://www.eba.europa.eu/sites/default/documents/files/document_library/Risk%20Analysis%20and%20Data/Risk%20dashboard/Q3%202021/1025829/EBA%20Dashboard%20-%20Q3%202021%20v2.pdf?retry=1) has lots of tables, but for research purposes it is better to get the data in machine readable form.\n",
    "\n",
    "Luckily the EBA thought about us. Under the name [the intractive tool](https://www.eba.europa.eu/sites/default/documents/files/document_library/Risk%20Analysis%20and%20Data/Risk%20dashboard/Q3%202021/1025834/EBA%20Interactive%20Dashboard%20-%20Q3%202021%20-%20Protected.xlsm) they offer an Excel file with a treasure trove of data.\n",
    "\n",
    "The challenge we face in this Session is that the data is not as well-structured as the BHC data. It requires more work to get it into shape.\n",
    "\n",
    "Learning objectives:\n",
    "\n",
    "- Splitting the data into groups based on some criteria\n",
    "- Applying a function to each group independently\n",
    "- Combining the results into a data structure, using merge and join\n",
    "- Reshaping data, using `melt`\n",
    "- Reshaping data, using pivot\n",
    "- Presenting data in graph and table"
   ]
  },
  {
   "cell_type": "markdown",
   "id": "d160432b",
   "metadata": {},
   "source": [
    "**Required**:\n",
    "\n",
    "From the EBA website, **download the interactive Dashboard data**, i.e. this spreadsheet: `EBA Interactive Dashboard - Q3 2021 - Protected.xlsm` for [2021Q3](https://www.eba.europa.eu/sites/default/documents/files/document_library/Risk%20Analysis%20and%20Data/Risk%20dashboard/Q3%202021/1025834/EBA%20Interactive%20Dashboard%20-%20Q3%202021%20-%20Protected.xlsm). \n",
    "\n",
    "The file is an Excel file.  **Save** it to a folder on your drive, e.g. `D:/users/my_user_name_here/EAA_python/code/`. \n",
    "\n",
    "**Note:** python may throw an error if you want to import an Excel file for the first time. See solutions [here](https://stackoverflow.com/questions/64432641/pandas-and-xlrd-error-while-reading-excel-files) and [here](https://techoverflow.net/2021/08/01/how-to-fix-pandas-pd-read_excel-error-xlrderror-excel-xlsx-file-not-supported/).\n",
    "\n",
    "Run the cells below after setting the correct source folder of your files, i.e. replace `my_user_name_here` with something that works on your machine. See this [link](https://www.youtube.com/watch?v=hUW5MEKDtMM) and this [link](https://www.youtube.com/watch?v=7ABkcHLdG_A) for explanations of folders and directories."
   ]
  },
  {
   "cell_type": "markdown",
   "id": "d3e0dfe2",
   "metadata": {},
   "source": [
    "**Let's start!**"
   ]
  },
  {
   "cell_type": "code",
   "execution_count": null,
   "id": "07d3033c",
   "metadata": {},
   "outputs": [],
   "source": [
    "# the familiar preamble\n",
    "import pandas as pd\n",
    "import numpy as np\n",
    "import os # To set our working folder\n",
    "\n",
    "if os.name=='nt':  # for Windows users\n",
    "    os.chdir('D:/users/my_user_name_here/EAA_python/data/')  # note the forward slashes, change 'martien' to your user name\n",
    "else:\n",
    "    os.chdir('/home/my_user_name_here/EAA_python/data/')  # For Linux or Mac"
   ]
  },
  {
   "cell_type": "markdown",
   "id": "cc2c3a48",
   "metadata": {},
   "source": [
    "---\n",
    "The Excel file has many sheets, but we will focus on \n",
    "\n",
    "- 'RI database' and 'Data' for *Risk Indicator data*\n",
    "- 'Data Annex' 'Mapping' for data from the *Statistical Annex*\n",
    "\n",
    "Open the Excel file, from the *Data* sheet, columns `'AF:DA'`. The first row in the sheet is empty, so we skip it."
   ]
  },
  {
   "cell_type": "code",
   "execution_count": null,
   "id": "0074ea75",
   "metadata": {},
   "outputs": [],
   "source": [
    "# Set the file name as `fn`, we will use the file a couple of times\n",
    "fn = 'EBA Interactive Dashboard - Q3 2021 - Protected.xlsm' \n",
    "\n",
    "def read_risk_indicators(fn, sn):\n",
    "    df = pd.read_excel(fn, sheet_name=sn, usecols='AF:BI', skiprows=[0])\n",
    "    return df\n",
    "\n",
    "df = read_risk_indicators(fn, 'Data')\n",
    "df.tail(5)"
   ]
  },
  {
   "cell_type": "markdown",
   "id": "1f45bedd",
   "metadata": {},
   "source": [
    "**Observations**\n",
    "\n",
    "- Some column names have a dot (.), which is not helping us. \n",
    "- Some cells have a dot (.), which should be changed in a NaN.\n",
    "- The Name column combines country codes `SK` with a variable code `SVC_3`. These are separated by a dash `_`. We need to split that column.\n",
    "- Some observations are from the `EU`, which is not a separate country. I suggest to remove these rows.\n",
    "- The variable codes are hard to interpret. \n",
    "- The columns are years.\n",
    "- Ideally we want the data frame to feature the variable names in columns, and the country and date as an index. This requires reshaping."
   ]
  },
  {
   "cell_type": "markdown",
   "id": "6ee28fc0",
   "metadata": {},
   "source": [
    "---\n",
    "**Renaming the column names**\n",
    "\n",
    "Before we rename the relevant columns, we set `Name` as the index, which protects it from being renamed."
   ]
  },
  {
   "cell_type": "code",
   "execution_count": null,
   "id": "8cb83648",
   "metadata": {},
   "outputs": [],
   "source": [
    "df.set_index('Name', inplace=True)"
   ]
  },
  {
   "cell_type": "markdown",
   "id": "a666b135",
   "metadata": {},
   "source": [
    "**Some column names have a dot (.), which is not helping us**\n",
    "\n",
    "To solve this, we should rename the columns. The challenge is that the column names with the dots are strings while the others are integers. \n",
    "\n",
    "We can use list comprehension to solve this for all columns except for `Name`. "
   ]
  },
  {
   "cell_type": "code",
   "execution_count": null,
   "id": "62530a39",
   "metadata": {},
   "outputs": [],
   "source": [
    "# Before\n",
    "print([x for x in df])"
   ]
  },
  {
   "cell_type": "code",
   "execution_count": null,
   "id": "aeedf611",
   "metadata": {},
   "outputs": [],
   "source": [
    "# This is how the names should look like:\n",
    "print([str(x) if isinstance(x, int) else x.split('.')[0] for x in df]) # Take the first item from the split string [0]"
   ]
  },
  {
   "cell_type": "markdown",
   "id": "f8146a7c",
   "metadata": {},
   "source": [
    "Use the contents of the previous cell  and `df.columns = ` to change the column names into strings."
   ]
  },
  {
   "cell_type": "code",
   "execution_count": null,
   "id": "2f45cec5",
   "metadata": {},
   "outputs": [],
   "source": [
    "df.columns = [str(x) if isinstance(x, int) else x.split('.')[0] for x in df]\n",
    "print(list(df))"
   ]
  },
  {
   "cell_type": "code",
   "execution_count": null,
   "id": "3252edd1",
   "metadata": {},
   "outputs": [],
   "source": [
    "df.head(8).tail(4)"
   ]
  },
  {
   "cell_type": "markdown",
   "id": "6c850872",
   "metadata": {},
   "source": [
    "**Some cells have a dot (.), which should be changed in a NaN**\n",
    "\n",
    "The next challenge is to deal with missing observations, which also are marked as a dot. As a consequence, Python marks these columns as object, which is not ideal for analysis."
   ]
  },
  {
   "cell_type": "code",
   "execution_count": null,
   "id": "c3768074",
   "metadata": {},
   "outputs": [],
   "source": [
    "df.dtypes[1:5]"
   ]
  },
  {
   "cell_type": "markdown",
   "id": "ea55a0aa",
   "metadata": {},
   "source": [
    "The solution is to coercing these observations into becoming numbers using `apply()` to the data frame:"
   ]
  },
  {
   "cell_type": "code",
   "execution_count": null,
   "id": "9862d027",
   "metadata": {},
   "outputs": [],
   "source": [
    "df = df.apply(pd.to_numeric, errors='coerce')"
   ]
  },
  {
   "cell_type": "markdown",
   "id": "42f6c279",
   "metadata": {},
   "source": [
    "Now all cells are numbers, which you can check with `df.dtypes`:"
   ]
  },
  {
   "cell_type": "code",
   "execution_count": null,
   "id": "0756af3a",
   "metadata": {},
   "outputs": [],
   "source": [
    "df.dtypes[1:5]"
   ]
  },
  {
   "cell_type": "code",
   "execution_count": null,
   "id": "80577113",
   "metadata": {},
   "outputs": [],
   "source": [
    "df.dtypes[-5:]"
   ]
  },
  {
   "cell_type": "code",
   "execution_count": null,
   "id": "8d12a7a0",
   "metadata": {},
   "outputs": [],
   "source": [
    "df.head(8).tail(4)"
   ]
  },
  {
   "cell_type": "markdown",
   "id": "a3c52c47",
   "metadata": {},
   "source": [
    "---\n",
    "\n",
    "**The Name column combines country codes with variable codes. They are separated by a dash `_`.**\n",
    "\n",
    "The next challenge is to split the `Name` column into a country label and a variable name.\n",
    "\n",
    "This can be done by the following method, which splits a string as follows:"
   ]
  },
  {
   "cell_type": "code",
   "execution_count": null,
   "id": "e58394bd",
   "metadata": {},
   "outputs": [],
   "source": [
    "s = 'EU_LIQ_17'\n",
    "print(s)\n",
    "s = s.split('_', 1)\n",
    "print(s)"
   ]
  },
  {
   "cell_type": "markdown",
   "id": "7625cdbe",
   "metadata": {},
   "source": [
    "We now **apply** this approach to the `Name` column of the data frame, which requires us to reset the index. \n",
    "\n",
    "Once we reset the data frame, we split the Name column into 'Country' and 'Variable'.\n",
    "\n",
    "This method is documented [here](https://datascienceparichay.com/article/pandas-split-column-by-delimiter/)."
   ]
  },
  {
   "cell_type": "code",
   "execution_count": null,
   "id": "035c6692",
   "metadata": {},
   "outputs": [],
   "source": [
    "df.reset_index(inplace=True)\n",
    "df[['Country', 'Variable']] = df['Name'].str.split('_', 1, expand=True).rename(columns={0: 'Country', 1: 'Variable'})"
   ]
  },
  {
   "cell_type": "code",
   "execution_count": null,
   "id": "9c97c8c8",
   "metadata": {},
   "outputs": [],
   "source": [
    "# Check the outcome\n",
    "df[['Name', 'Country', 'Variable']].head(2)"
   ]
  },
  {
   "cell_type": "markdown",
   "id": "026cbd18",
   "metadata": {},
   "source": [
    "We don't need the name column any longer:"
   ]
  },
  {
   "cell_type": "code",
   "execution_count": null,
   "id": "3aa4fd2c",
   "metadata": {},
   "outputs": [],
   "source": [
    "df = df.drop('Name', axis=1)"
   ]
  },
  {
   "cell_type": "markdown",
   "id": "dc414f61",
   "metadata": {},
   "source": [
    "---\n",
    "\n",
    "**Some observations are from the `EU`, which is not a separate country**\n",
    "\n",
    "I suggest to remove these rows using `.loc`."
   ]
  },
  {
   "cell_type": "code",
   "execution_count": null,
   "id": "43fb1598",
   "metadata": {
    "scrolled": true
   },
   "outputs": [],
   "source": [
    "print(f'Before: {len(df)}')\n",
    "df = df.loc[df['Country']!='EU']\n",
    "print(f'After: {len(df)}')"
   ]
  },
  {
   "cell_type": "markdown",
   "id": "8a94c4f6",
   "metadata": {},
   "source": [
    "Setting the index to `['Country', 'Variable']` renders a data frame with only numbers and NaNs."
   ]
  },
  {
   "cell_type": "code",
   "execution_count": null,
   "id": "2262712d",
   "metadata": {},
   "outputs": [],
   "source": [
    "df.set_index(['Country', 'Variable'], inplace=True)"
   ]
  },
  {
   "cell_type": "code",
   "execution_count": null,
   "id": "9528cdba",
   "metadata": {},
   "outputs": [],
   "source": [
    "df"
   ]
  },
  {
   "cell_type": "markdown",
   "id": "61b9afcc",
   "metadata": {},
   "source": [
    "---\n",
    "\n",
    "**The variable names are hard to interpret**\n",
    "\n",
    "The next functions create a frame which we can use to lookup the data definition from the `RI database` sheet in the Excel file. I use a helper function that cleans the text of the labels. \n",
    "\n",
    "Note the use of `df['Dashboard name'].apply(clean_text)`. It **applies** a function to a column on the data frame. This can also be used to apply complex numerical calculations to a column of a data frame. "
   ]
  },
  {
   "cell_type": "code",
   "execution_count": null,
   "id": "4dc15202",
   "metadata": {},
   "outputs": [],
   "source": [
    "def clean_text(s):\n",
    "    return s.replace('\\n', ' ').strip() # Get rid of line breaks and trim leading and lagging spaces. \n",
    "\n",
    "def ri_data_definitions(fn):\n",
    "    df = pd.read_excel(fn, sheet_name='RI database', usecols='D:E', skiprows=[0]).dropna()\n",
    "    df['Dashboard name'] = df['Dashboard name'].apply(clean_text)    \n",
    "    df.set_index('Risk Indicator code', inplace=True)\n",
    "    print(df)  #print(df.to_markdown())\n",
    "    return df\n",
    "\n",
    "df_ri_defs =  ri_data_definitions(fn)"
   ]
  },
  {
   "cell_type": "code",
   "execution_count": null,
   "id": "90807d1c",
   "metadata": {},
   "outputs": [],
   "source": [
    "# Check\n",
    "df_ri_defs.loc['SVC_13']"
   ]
  },
  {
   "cell_type": "markdown",
   "id": "184f87a5",
   "metadata": {},
   "source": [
    "--- \n",
    "\n",
    "### Reshaping the data, Part 1: melting ###\n",
    "\n",
    "\n",
    "The data frame currently is useful for analysis of indicators of different countries. \n",
    "\n",
    "For example, suppose we want to track the evolution of the Liquidity coverage ratio (`LIQ_17`) for Austria."
   ]
  },
  {
   "cell_type": "code",
   "execution_count": null,
   "id": "040f22f8",
   "metadata": {},
   "outputs": [],
   "source": [
    "df.loc[('AT','LIQ_17')].dropna().plot(kind = 'bar')"
   ]
  },
  {
   "cell_type": "markdown",
   "id": "9d21d404",
   "metadata": {},
   "source": [
    "However, the shape of the data frame is such that we can not easily analyze variables grouped by country.\n",
    "\n",
    "One way to sort out that problem is to reshape the frame into  one with only one value column and a triple-index column with Variable name, Country code, and Date.\n",
    "\n",
    "Let's do that using the [melt](https://pandas.pydata.org/pandas-docs/stable/reference/api/pandas.melt.html) command.\n",
    "\n",
    "To make this work, we need the values from the data frame, and `Variable`, `Country` as `id` variables. To get 'Variable' and 'Country', we extract them from the current index, hence the use of `df.reset_index()` in the command below:"
   ]
  },
  {
   "cell_type": "code",
   "execution_count": null,
   "id": "a142b561",
   "metadata": {},
   "outputs": [],
   "source": [
    "dfm = pd.melt(df.reset_index(), id_vars=['Variable', 'Country'], value_vars=list(df), var_name='Date', value_name='value')\n",
    "dfm.set_index(['Variable', 'Country', 'Date'], inplace=True)\n",
    "dfm"
   ]
  },
  {
   "cell_type": "code",
   "execution_count": null,
   "id": "427caef0",
   "metadata": {},
   "outputs": [],
   "source": [
    "print(df_ri_defs.loc['LIQ_17'])\n",
    "print(df_ri_defs.loc['SVC_3'])"
   ]
  },
  {
   "cell_type": "code",
   "execution_count": null,
   "id": "4c5c922d",
   "metadata": {},
   "outputs": [],
   "source": [
    "df_lr = dfm.loc['LIQ_17']\n",
    "dfcet = dfm.loc['SVC_3']"
   ]
  },
  {
   "cell_type": "markdown",
   "id": "367fcc53",
   "metadata": {},
   "source": [
    "It is now easier to analyze variables in groups, more on that later."
   ]
  },
  {
   "cell_type": "markdown",
   "id": "3f1d0844",
   "metadata": {},
   "source": [
    "---\n",
    "\n",
    "### Bringing it all together ###\n",
    "\n",
    "Consolidate all of the above in one function to create a workable data. The function also returns a list of EU countries, which we can use when we want to select data from individual countries. \n",
    "\n",
    "The function outputs three frames, one that is close to the original EBA spreadsheet (`df`), a melted version (`dfm`), and the list of EU country codes. "
   ]
  },
  {
   "cell_type": "code",
   "execution_count": null,
   "id": "6d17fe7c",
   "metadata": {},
   "outputs": [],
   "source": [
    "def read_risk_indicators(fn, sn):\n",
    "    df = pd.read_excel(fn, sheet_name=sn, usecols='AF:BI', skiprows=[0])\n",
    "    df.set_index('Name', inplace=True)\n",
    "    df.columns = [str(x) if isinstance(x, int) else x.split('.')[0] for x in df]\n",
    "    df = df.apply(pd.to_numeric,  errors='coerce')\n",
    "    df.reset_index(inplace=True)\n",
    "    df[['Country', 'Variable']] = df['Name'].str.split('_', 1, expand=True).rename(columns={0: 'Country', 1: 'Variable'})\n",
    "    df = df.drop('Name', axis=1)\n",
    "    df = df.loc[df['Country']!='EU']\n",
    "    eu_ctrys = sorted(list(set(df['Country'].tolist())))  # let's get a list of EU countries\n",
    "    dfm = pd.melt(df, id_vars=['Variable', 'Country'], value_vars=list(df), var_name='Date', value_name='value')\n",
    "    dfm.set_index(['Variable', 'Country', 'Date'], inplace=True)\n",
    "    df.set_index(['Country', 'Variable'], inplace=True)\n",
    "    return df, dfm, eu_ctrys\n",
    "\n",
    "fn = 'EBA Interactive Dashboard - Q3 2021 - Protected.xlsm'\n",
    "df, dfm, eu_ctrys = read_risk_indicators(fn, 'Data')"
   ]
  },
  {
   "cell_type": "code",
   "execution_count": null,
   "id": "72ba4ca6",
   "metadata": {},
   "outputs": [],
   "source": [
    "print(eu_ctrys)"
   ]
  },
  {
   "cell_type": "code",
   "execution_count": null,
   "id": "a82f6ed9",
   "metadata": {},
   "outputs": [],
   "source": [
    "df.head()"
   ]
  },
  {
   "cell_type": "code",
   "execution_count": null,
   "id": "633c01e8",
   "metadata": {
    "scrolled": true
   },
   "outputs": [],
   "source": [
    "dfm"
   ]
  },
  {
   "cell_type": "code",
   "execution_count": null,
   "id": "5d3913e9",
   "metadata": {},
   "outputs": [],
   "source": [
    "# checking CET 1 capital ratio, grouped by Date\n",
    "dfm.loc['SVC_3'].groupby('Date').mean().plot(kind='bar')"
   ]
  },
  {
   "cell_type": "code",
   "execution_count": null,
   "id": "6afe9793",
   "metadata": {},
   "outputs": [],
   "source": [
    "# checking CET 1 capital ratio, grouped by Country\n",
    "dfm.loc['SVC_3'].groupby('Country').mean().plot(kind='bar')"
   ]
  },
  {
   "cell_type": "markdown",
   "id": "18e6640f",
   "metadata": {},
   "source": [
    "--- \n",
    "\n",
    "### Reshaping the data, Part 2: pivoting the data ###\n",
    "This section will be completed by by end of Sunday CET."
   ]
  }
 ],
 "metadata": {
  "kernelspec": {
   "display_name": "Python 3 (ipykernel)",
   "language": "python",
   "name": "python3"
  },
  "language_info": {
   "codemirror_mode": {
    "name": "ipython",
    "version": 3
   },
   "file_extension": ".py",
   "mimetype": "text/x-python",
   "name": "python",
   "nbconvert_exporter": "python",
   "pygments_lexer": "ipython3",
   "version": "3.8.12"
  }
 },
 "nbformat": 4,
 "nbformat_minor": 5
}
