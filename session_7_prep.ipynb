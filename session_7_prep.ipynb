{
 "cells": [
  {
   "cell_type": "markdown",
   "id": "b6a994a9",
   "metadata": {},
   "source": [
    "# Session 7: Analyze financial data, handle data with different year-ends."
   ]
  },
  {
   "cell_type": "markdown",
   "id": "53e48b34",
   "metadata": {},
   "source": [
    "## [EAA - ARC Python Primer for Accounting Research](https://martien.netlify.app/book/example/)"
   ]
  },
  {
   "cell_type": "markdown",
   "id": "1c56e4c9",
   "metadata": {},
   "source": [
    "### Preparation ###\n",
    "\n",
    "\n",
    "**Complete the cells below so that by the start of the Thursday session you have an understanding of munging data for accounting research**\n",
    "\n",
    "---\n",
    "\n",
    "#### Introduction - preparation\n",
    "---\n",
    "\n",
    "The cells below demonstrate how use Use Pandas to analyze financial data, handle data with different year-ends, etc.\n",
    "\n",
    "By the end of this session you are able to craft your own panel data set for accounting research.\n",
    "\n",
    "#### Price data \n",
    "\n",
    "You will download prices of us Bank Holding Companies using the [**yfinance**](https://pypi.org/project/yfinance/) module. To install this module using Anaconda prompt, run `pip install yfinance`.\n",
    "\n",
    "#### Accounting data \n",
    "\n",
    "You will also use the bank holding company data used in the [first assignment](https://github.com/blucap/EEA_Python_Primer/blob/master/assignment_1_solutions.ipynb). \n",
    "\n",
    "For this Session you need to:  \n",
    "\n",
    "- **Download the BHC data** for [2019](https://www.ffiec.gov/npw/FinancialReport/FinancialDataDownload?selectedyear=2019),  [2020](https://www.ffiec.gov/npw/FinancialReport/FinancialDataDownload?selectedyear=2020), and  [2021](https://www.ffiec.gov/npw/FinancialReport/FinancialDataDownload?selectedyear=2021). \n",
    "- **Save** the files to a folder on your drive, e.g. `D:/users/my_user_name_here/EAA_python/code/`. The files are zip- compressed (`BHCF20200331.ZIP`, ...,  `BHCF20211231.ZIP`) - **but there is no need to extract the contents of the zip files**. Pandas will do that for you.\n",
    "- **Save** the file `ticker_rssd.csv` (see [GitHub](https://github.com/blucap/EEA_Python_Primer)) to the same folder.\n",
    "\n",
    "Run the cells below after setting the correct source folder of your files, i.e. replace `my_user_name_here` with something that works on your machine. See this [link](https://www.youtube.com/watch?v=hUW5MEKDtMM) and this [link](https://www.youtube.com/watch?v=7ABkcHLdG_A) for explanations of folders and directories.\n",
    "\n",
    "Learning objectives:\n",
    "\n",
    "- Obtaining price data from Yahoo, \n",
    "- Determining cumulative returns for a sample of Bank Holding Companies,\n",
    "- Learning about time series for different year-ends, quarter-ends,\n",
    "- Creating a data frame of cumulative returns that we will merge with accounting data of Bank Holding Companies,\n",
    "- Preparing data from Bank Holding Companies for analysis\n",
    "- Creating lagged data\n",
    "- Creating row-differences\n",
    "- Merging accouting and price data\n"
   ]
  },
  {
   "cell_type": "markdown",
   "id": "d3e0dfe2",
   "metadata": {},
   "source": [
    "---\n",
    "\n",
    "**Let's start!**"
   ]
  },
  {
   "cell_type": "code",
   "execution_count": null,
   "id": "07d3033c",
   "metadata": {},
   "outputs": [],
   "source": [
    "# the familiar preamble\n",
    "import pandas as pd\n",
    "import numpy as np\n",
    "\n",
    "# For this session\n",
    "import glob # for iterating through a folder\n",
    "import os # To set our working folder\n",
    "from pandas.tseries.offsets import MonthEnd # To set dates to the end of the month\n",
    "import yfinance as yf  # This gets us prices from Yahoo finance. See https://pypi.org/project/yfinance/\n",
    "\n",
    "if os.name=='nt':  # for Windows users\n",
    "    os.chdir('D:/users/my_user_name_here/EAA_python/data/')  # note the forward slashes, change 'martien' to your user name\n",
    "else:\n",
    "    os.chdir('/home/martien/EAA_python/data/')  # For Linux or Mac"
   ]
  },
  {
   "cell_type": "markdown",
   "id": "cc2c3a48",
   "metadata": {},
   "source": [
    "---\n",
    "### Loading price data for U.S. banks using yfinance ###\n",
    "\n",
    "For this course, I decided to rely on publicly available data only. So, for price data I rely on [yfinance](https://pypi.org/project/yfinance/) instead of WRDS-CRSP. \n",
    "\n",
    "The price data allows me to show some powerful pandas functions, such as determining cumulative returns and finding prices at the end of quarter. \n",
    "\n",
    "The [yfinance](https://pypi.org/project/yfinance/) module returns a data frame with financials for a single firm, or for a list of firms. With the bank holding company data available for the years 2019-2021, we will only load price data for these years.\n",
    "\n",
    "The cells below retrieve that data for a long list of bank tickers (`bank_list`) that I compiled for you. "
   ]
  },
  {
   "cell_type": "code",
   "execution_count": null,
   "id": "a9f0ae43",
   "metadata": {},
   "outputs": [],
   "source": [
    "bank_list = ['AAIC', 'ABCB', 'ABCW', 'ABTX', 'ACBI', 'ACFC', 'ACNB', 'AF', 'AI', 'AIG', 'ALTA', 'AMNB', 'AMP', 'AMRB', 'AMTBB', 'ANCB', 'ANCX', 'AROW', 'ASB', 'ASBB', 'ASBI', 'ASRV', 'ATLO', 'AUB', 'AUBN', 'AVNU', 'AX', 'BAC', 'BANC', 'BANF', 'BANR', 'BBCN', 'BBT', 'BCBP', 'BDGE', 'BEN', 'BFIN', 'BFST', 'BHB', 'BHBK', 'BHLB', 'BK', 'BKJ', 'BKMU', 'BKSC', 'BKU', 'BLMT', 'BMRC', 'BMTC', 'BNCL', 'BNCN', 'BNK', 'BOCH', 'BOFI', 'BOH', 'BOKF', 'BPFH', 'BPOP', 'BRKL', 'BSRR', 'BSVN', 'BUSE', 'BWB', 'BWFG', 'BXS', 'BY', 'BYBK', 'BYLK', 'C', 'CAC', 'CACB', 'CADE', 'CARO', 'CARV', 'CASH', 'CASS', 'CATC', 'CATY', 'CBAN', 'CBF', 'CBFV', 'CBNJ', 'CBNK', 'CBSH', 'CBTX', 'CBU', 'CCBG', 'CCNE', 'CFB', 'CFCB', 'CFFI', 'CFFN', 'CFG', 'CFNB', 'CFNL', 'CFR', 'CHCO', 'CHEV', 'CHFC', 'CHFN', 'CHMG', 'CIT', 'CIVB', 'CIZN', 'CLBH', 'CLBK', 'CMA', 'CNBKA', 'CNOB', 'COB', 'COBZ', 'COF', 'COLB', 'CPF', 'CSBK', 'CSFL', 'CSTR', 'CTBI', 'CUBI', 'CUBN', 'CUNB', 'CVBF', 'CVCY', 'CVLY', 'CWBC', 'CZNC', 'CZWI', 'DCOM', 'DFS', 'DNBF', 'EBMT', 'EBSB', 'EBTC', 'EFSC', 'EGBN', 'EMCF', 'ENFC', 'EQBK', 'ESSA', 'ESXB', 'ETFC', 'EVBN', 'EVBS', 'EVER', 'EWBC', 'FAF', 'FBC', 'FBIZ', 'FBK', 'FBMS', 'FBNC', 'FBNK', 'FBP', 'FBSS', 'FCB', 'FCBC', 'FCCO', 'FCCY', 'FCF', 'FCFP', 'FCLF', 'FCNCA', 'FCVA', 'FDEF', 'FFBC', 'FFIC', 'FFIN', 'FFKT', 'FFNW', 'FFWM', 'FGBI', 'FHN', 'FIBK', 'FISI', 'FITB', 'FLIC', 'FMAO', 'FMBH', 'FMBI', 'FMD', 'FMER', 'FMNB', 'FNB', 'FNBC', 'FNBG', 'FNCB', 'FNFG', 'FNLC', 'FNWB', 'FRBK', 'FRME', 'FSB', 'FSBK', 'FSFG', 'FULT', 'FUNC', 'FUSB', 'FXCB', 'GABC', 'GBCI', 'GBNK', 'GFED', 'GLBZ', 'GNBC', 'GNTY', 'GSBC', 'GWB', 'HAFC', 'HBAN', 'HBCP', 'HBHC', 'HBMD', 'HBNC', 'HBT', 'HEOP', 'HFBC', 'HFFC', 'HFWA', 'HMNF', 'HMPR', 'HMST', 'HOMB', 'HONE', 'HOPE', 'HTBI', 'HTBK', 'HTH', 'HTLF', 'HWBK', 'HWC', 'IBCP', 'IBKC', 'IBOC', 'IBTX', 'ICBK', 'INBK', 'INDB', 'IROQ', 'ISBC', 'ISTR', 'JAXB', 'JPM', 'JXSB', 'KEY', 'KRNY', 'LARK', 'LBAI', 'LCNB', 'LEVL', 'LION', 'LKFN', 'LMST', 'LOB', 'LSBG', 'LTXB', 'MBCN', 'MBFI', 'MBIN', 'MBNAB', 'MBRG', 'MBTF', 'MBVT', 'MBWM', 'MCBC', 'METR', 'MFNC', 'MFSF', 'MGYR', 'MLVF', 'MNRK', 'MOFG', 'MPB', 'MRLN', 'MSBI', 'MSFG', 'MSL', 'MTB', 'MVBF', 'MYFW', 'NBBC', 'NBHC', 'NBN', 'NBTB', 'NCBS', 'NCOM', 'NFBK', 'NKSH', 'NPBC', 'NRIM', 'NTRS', 'NVSL', 'NWBI', 'NWFL', 'NYCB', 'OBNK', 'OCFC', 'OFG', 'OKSB', 'OLBK', 'ONB', 'OPHC', 'OPOF', 'ORIT', 'ORRF', 'OSBC', 'OSHC', 'OVBC', 'OVLY', 'OZK', 'OZRK', 'PACW', 'PB', 'PBCT', 'PBHC', 'PBIB', 'PBIP', 'PBNC', 'PCBK', 'PCSB', 'PEBK', 'PEBO', 'PFBI', 'PFBX', 'PFC', 'PFG', 'PFIS', 'PFS', 'PGC', 'PKBK', 'PLBC', 'PMBC', 'PNBK', 'PNC', 'PNFP', 'PPBI', 'PRK', 'PROV', 'PSTB', 'PUB', 'PULB', 'PVBC', 'PVTB', 'PWOD', 'QCRH', 'RBB', 'RBCAA', 'RBNC', 'RBPAA', 'RF', 'RJF', 'RNST', 'RRBI', 'RVSB', 'SAL', 'SASR', 'SBBX', 'SBCF', 'SBFG', 'SBSI', 'SBT', 'SCHW', 'SCNB', 'SEIC', 'SF', 'SFBS', 'SFNC', 'SFST', 'SGB', 'SHBI', 'SIFI', 'SIVB', 'SLCT', 'SMBC', 'SMBK', 'SMMF', 'SNBC', 'SNV', 'SOCB', 'SONA', 'SPFI', 'SRCE', 'SSB', 'SSFN', 'STBA', 'STBZ', 'STI', 'STL', 'STT', 'SVBI', 'SYBT', 'SYF', 'TBBK', 'TBK', 'TBNK', 'TCB', 'TCBI', 'TCBK', 'TCF', 'TCFC', 'TFC', 'THFF', 'TLMR', 'TMP', 'TRCB', 'TRMK', 'TROW', 'TRST', 'TSBK', 'TSC', 'UBCP', 'UBFO', 'UBNK', 'UBOH', 'UBSH', 'UBSI', 'UCBA', 'UCBI', 'UCFC', 'UMBF', 'UMPQ', 'UNB', 'UNTY', 'USB', 'USBI', 'UVSP', 'VBFC', 'VBTX', 'VLY', 'WABC', 'WAFD', 'WAL', 'WASH', 'WBB', 'WBS', 'WFBI', 'WFC', 'WFD', 'WIBC', 'WNEB', 'WSBC', 'WSBF', 'WSFS', 'WTBA', 'WTFC', 'WVFC', 'XBKS', 'YCB', 'YDKN', 'ZION']\n",
    "print('Banks :', len(bank_list))"
   ]
  },
  {
   "cell_type": "code",
   "execution_count": null,
   "id": "6009947d",
   "metadata": {},
   "outputs": [],
   "source": [
    "dfy = yf.download(bank_list, start='2019-01-01', end='2021-12-31', progress=True)"
   ]
  },
  {
   "cell_type": "markdown",
   "id": "3a09ae6a",
   "metadata": {},
   "source": [
    "**Note that `dfy` has a multi-index set of columns**\n",
    "\n",
    "This is a great feature of Pandas: it allows us to select a set of columns in one go."
   ]
  },
  {
   "cell_type": "code",
   "execution_count": null,
   "id": "c15c37fc",
   "metadata": {},
   "outputs": [],
   "source": [
    "dfy.head()"
   ]
  },
  {
   "cell_type": "markdown",
   "id": "2d74b613",
   "metadata": {},
   "source": [
    "We only need `Adj Close`:"
   ]
  },
  {
   "cell_type": "code",
   "execution_count": null,
   "id": "d7c449f4",
   "metadata": {},
   "outputs": [],
   "source": [
    "df_close = dfy['Adj Close'].copy()\n",
    "df_close.head(5)"
   ]
  },
  {
   "cell_type": "markdown",
   "id": "69821cb8",
   "metadata": {},
   "source": [
    "**Note that there are many empty columns**\n",
    "\n",
    "Let's delete columns without any price value using `dropna` and `axis=1` for columns, instead of the default `axis=0`."
   ]
  },
  {
   "cell_type": "code",
   "execution_count": null,
   "id": "9f90a03d",
   "metadata": {},
   "outputs": [],
   "source": [
    "df_close.shape"
   ]
  },
  {
   "cell_type": "code",
   "execution_count": null,
   "id": "0074ea75",
   "metadata": {},
   "outputs": [],
   "source": [
    "df_close.dropna(axis=1, inplace=True, how='all')\n",
    "df_close.shape"
   ]
  },
  {
   "cell_type": "code",
   "execution_count": null,
   "id": "28c7a978",
   "metadata": {
    "scrolled": true
   },
   "outputs": [],
   "source": [
    "df_close.head(5)"
   ]
  },
  {
   "cell_type": "code",
   "execution_count": null,
   "id": "bc2b6339",
   "metadata": {},
   "outputs": [],
   "source": [
    "df_close.tail(5)"
   ]
  },
  {
   "cell_type": "markdown",
   "id": "1f45bedd",
   "metadata": {},
   "source": [
    "**Observations**\n",
    "\n",
    "- The data looks fine, but the shape of the data should change: tickers and dates should be the index\n",
    "- Using the date variable we can create variables that are based on the date, one for the year, one for the quarter number [1,2,3,4], and one for the quarter '2021Q1'. These variables facilitate grouping.\n",
    "- The main date variable should be named `datadate`.\n",
    "- The price variable should be renamed to `prc`.\n",
    "\n",
    "To reshape the data frame we use `melt`, see [Session 6](https://martien.netlify.app/slides/session6/). "
   ]
  },
  {
   "cell_type": "code",
   "execution_count": null,
   "id": "87c3c8af",
   "metadata": {},
   "outputs": [],
   "source": [
    "# Melt\n",
    "dfm = pd.melt(df_close.reset_index(), id_vars=['Date'], var_name='ticker', value_name='prc')\n",
    "dfm.dropna(inplace=True)\n",
    "dfm.rename(columns = {'Date': 'datadate'} , inplace=True)\n",
    "dfm.head()"
   ]
  },
  {
   "cell_type": "code",
   "execution_count": null,
   "id": "6d3b9cbe",
   "metadata": {},
   "outputs": [],
   "source": [
    "# Adding additional date variables using datadate \n",
    "\n",
    "dfm['year']       = dfm.datadate.dt.year\n",
    "dfm['quarter_no'] = dfm.datadate.dt.quarter\n",
    "dfm['quarter']    = pd.PeriodIndex(dfm.datadate, freq='Q')  # See https://stackoverflow.com/questions/50459301/how-to-convert-dates-to-quarters-in-python\n",
    "\n",
    "dfm.set_index(['ticker', 'datadate'], inplace=True)"
   ]
  },
  {
   "cell_type": "markdown",
   "id": "fe4f225c",
   "metadata": {},
   "source": [
    "**Presto** we now have a properly designed *long* data frame that we can use for various analyses."
   ]
  },
  {
   "cell_type": "code",
   "execution_count": null,
   "id": "badbdafd",
   "metadata": {
    "scrolled": true
   },
   "outputs": [],
   "source": [
    "dfm.head(5)"
   ]
  },
  {
   "cell_type": "markdown",
   "id": "4ad9790d",
   "metadata": {},
   "source": [
    "---\n",
    "\n",
    "**Cumulative returns**\n",
    "\n",
    "In the absence of readily available dividend data we rely on price changes for determining returns. \n",
    "\n",
    "To determine price changes, use Pandas `pct_change` function.\n",
    "\n",
    "Let's do that for Bank of America, with ticker `BAC`."
   ]
  },
  {
   "cell_type": "code",
   "execution_count": null,
   "id": "93e69825",
   "metadata": {},
   "outputs": [],
   "source": [
    "df_boa = dfm['prc'].loc['BAC'].pct_change()\n",
    "df_boa.head()"
   ]
  },
  {
   "cell_type": "markdown",
   "id": "1db32fe3",
   "metadata": {},
   "source": [
    "For the calculation of cumulative returns we should add one (1) to the price changes:"
   ]
  },
  {
   "cell_type": "code",
   "execution_count": null,
   "id": "b08bf5af",
   "metadata": {},
   "outputs": [],
   "source": [
    "df_boa += 1\n",
    "df_boa"
   ]
  },
  {
   "cell_type": "markdown",
   "id": "9440e34b",
   "metadata": {},
   "source": [
    "Use Pandas `cumprod` to determine the cumulative product of the price changes per day, then take away 1."
   ]
  },
  {
   "cell_type": "code",
   "execution_count": null,
   "id": "c1ec290c",
   "metadata": {},
   "outputs": [],
   "source": [
    "df_boa_cumret_all = df_boa.cumprod()-1"
   ]
  },
  {
   "cell_type": "code",
   "execution_count": null,
   "id": "44a52573",
   "metadata": {
    "scrolled": true
   },
   "outputs": [],
   "source": [
    "df_boa_cumret_all.plot(figsize=(10,6))"
   ]
  },
  {
   "cell_type": "markdown",
   "id": "662db3f2",
   "metadata": {},
   "source": [
    "Apparently BoA performed well!"
   ]
  },
  {
   "cell_type": "markdown",
   "id": "ca529aba",
   "metadata": {},
   "source": [
    "---\n",
    "\n",
    "**Resampling the data frequency to quarterly**\n",
    "\n",
    "What if we are not interested in daily observations, but only in end-of quarter data?\n",
    "\n",
    "Here again Pandas shows its strength, you can resample the data to a different frequency and tell pandas to `take` the last observation of each quarter."
   ]
  },
  {
   "cell_type": "code",
   "execution_count": null,
   "id": "45dad810",
   "metadata": {},
   "outputs": [],
   "source": [
    "df_boa_cumret_qtr = df_boa_cumret_all.resample('Q').last().fillna(0)\n",
    "df_boa_cumret_qtr"
   ]
  },
  {
   "cell_type": "code",
   "execution_count": null,
   "id": "a12734cf",
   "metadata": {},
   "outputs": [],
   "source": [
    "df_boa_cumret_qtr.plot()"
   ]
  },
  {
   "cell_type": "markdown",
   "id": "6c67718d",
   "metadata": {},
   "source": [
    "**Note that the series above starts at a zero**, and then continues using that zero value as the base reference.\n",
    "\n",
    "Alternatively, if you want the cumulative returns per quarter, use the **product** (not cumulative product) of the values:"
   ]
  },
  {
   "cell_type": "code",
   "execution_count": null,
   "id": "c82e3adb",
   "metadata": {},
   "outputs": [],
   "source": [
    "df_boa_ret_qtr = df_boa.resample('Q').prod()-1  \n",
    "df_boa_ret_qtr.plot(kind='bar')"
   ]
  },
  {
   "cell_type": "markdown",
   "id": "984b93fb",
   "metadata": {},
   "source": [
    "**Year-ends not December**\n",
    "\n",
    "Pandas takes the approach shown above a step further by allowing you to set your own quarter/year-end. \n",
    "\n",
    "For example, if you want annual observations, you can specify the relevant year-end, be it December or April. See this Pandas [help-file](https://pandas.pydata.org/pandas-docs/stable/user_guide/timeseries.html)\n",
    "for a wealth of time-series features. "
   ]
  },
  {
   "cell_type": "code",
   "execution_count": null,
   "id": "306baf24",
   "metadata": {
    "scrolled": true
   },
   "outputs": [],
   "source": [
    "# Annual - generic\n",
    "df_boa_ret_ann = df_boa.resample('A').prod()-1  \n",
    "df_boa_ret_ann.plot(kind='bar')"
   ]
  },
  {
   "cell_type": "code",
   "execution_count": null,
   "id": "7d2b839f",
   "metadata": {},
   "outputs": [],
   "source": [
    "# Annual - December\n",
    "df_boa_ret_ann = df_boa.resample('A-DEC').prod()-1  \n",
    "df_boa_ret_ann.plot(kind='bar')"
   ]
  },
  {
   "cell_type": "code",
   "execution_count": null,
   "id": "a5af6c35",
   "metadata": {},
   "outputs": [],
   "source": [
    "# Annual - April\n",
    "df_boa_ret_ann = df_boa.resample('A-APR').prod()-1  \n",
    "df_boa_ret_ann.plot(kind='bar')"
   ]
  },
  {
   "cell_type": "markdown",
   "id": "e84f9f75",
   "metadata": {},
   "source": [
    "---\n",
    "\n",
    "**Applying the same logic for all banks**\n",
    "\n",
    "We generally work with panel data. So, instead of lifting the data from a single firm, we should be able to apply the same approach to all banks in our data frame `dfm`. This involves the use of `groupby`, see also [Session 6](https://github.com/blucap/EEA_Python_Primer/blob/master/assignment_1_solutions.ipynb).\n",
    "\n",
    "- Let's add a variable `dprc` to our main data frame `dfm`\n",
    "- Then get rid of rows without valid value change observations"
   ]
  },
  {
   "cell_type": "code",
   "execution_count": null,
   "id": "28124946",
   "metadata": {},
   "outputs": [],
   "source": [
    "dfm['dprc'] = dfm['prc'].groupby('ticker').pct_change() + 1\n",
    "dfm['dprc'].head()"
   ]
  },
  {
   "cell_type": "code",
   "execution_count": null,
   "id": "141c7bf0",
   "metadata": {},
   "outputs": [],
   "source": [
    "dfm.dropna(subset = ['dprc'], inplace=True)  \n",
    "dfm['dprc'].head()"
   ]
  },
  {
   "cell_type": "markdown",
   "id": "94aed154",
   "metadata": {},
   "source": [
    "**Presto!**\n",
    "\n",
    "The next cells show how this approach works for three banks (Bank of America, Well Fargo, Citi). This instead of testing this for all banks."
   ]
  },
  {
   "cell_type": "code",
   "execution_count": null,
   "id": "586a7744",
   "metadata": {},
   "outputs": [],
   "source": [
    "# Obtain the price-change data (with 1 added) for Bank of America, Well Fargo, Citi:\n",
    "df_3_bks = dfm['dprc'].loc[['BAC', 'WFC', 'C']]\n",
    "df_3_bks"
   ]
  },
  {
   "cell_type": "code",
   "execution_count": null,
   "id": "18ba7d1d",
   "metadata": {},
   "outputs": [],
   "source": [
    "# Reshaping the melted data using unstack\n",
    "df_3_bks = dfm['dprc'].loc[['BAC', 'WFC', 'C']].unstack()\n",
    "df_3_bks"
   ]
  },
  {
   "cell_type": "code",
   "execution_count": null,
   "id": "206c30e2",
   "metadata": {
    "scrolled": true
   },
   "outputs": [],
   "source": [
    "# Better to transpose (T) the frame and eliminate empty rows\n",
    "df_3_bks = dfm['dprc'].loc[['BAC', 'WFC', 'C']].unstack().T.dropna(how = 'all')\n",
    "df_3_bks"
   ]
  },
  {
   "cell_type": "code",
   "execution_count": null,
   "id": "2404e33e",
   "metadata": {
    "scrolled": true
   },
   "outputs": [],
   "source": [
    "df_3_bks.cumprod().plot()"
   ]
  },
  {
   "cell_type": "markdown",
   "id": "d4b82980",
   "metadata": {},
   "source": [
    "---\n",
    "\n",
    "Likewise, if you want the cumulative returns per quarter:\n",
    "\n",
    "- Create a group object which groups on `['ticker', 'quarter']`.\n",
    "- Calculate the cumulative returns per quarter using Pandas product function, then deduct 1.\n",
    "- If we want to: reshape the resulting frame and plot."
   ]
  },
  {
   "cell_type": "code",
   "execution_count": null,
   "id": "078f16af",
   "metadata": {},
   "outputs": [],
   "source": [
    "dfm_qtr_qp = dfm.groupby(['ticker', 'quarter'])\n",
    "dfm_qtr_qp.head()"
   ]
  },
  {
   "cell_type": "code",
   "execution_count": null,
   "id": "cf2d5e81",
   "metadata": {},
   "outputs": [],
   "source": [
    "df_all_bks = dfm_qtr_qp['dprc'].prod() - 1\n",
    "df_all_bks.head(5)"
   ]
  },
  {
   "cell_type": "code",
   "execution_count": null,
   "id": "c6ff9c23",
   "metadata": {},
   "outputs": [],
   "source": [
    "#Check for Bank of America\n",
    "df_all_bks.loc['BAC']"
   ]
  },
  {
   "cell_type": "code",
   "execution_count": null,
   "id": "9f62b601",
   "metadata": {},
   "outputs": [],
   "source": [
    "df_all_bks[['BAC', 'WFC', 'C']].unstack()"
   ]
  },
  {
   "cell_type": "code",
   "execution_count": null,
   "id": "532080d4",
   "metadata": {},
   "outputs": [],
   "source": [
    "df_all_bks[['BAC', 'WFC', 'C']].unstack().T.plot(kind = 'bar', figsize = (10,6))"
   ]
  },
  {
   "cell_type": "code",
   "execution_count": null,
   "id": "6b8a7f8f",
   "metadata": {},
   "outputs": [],
   "source": [
    "# Note, `df_all_bks`is a Pandas **Series**. Best to convert it to a frame.\n",
    "\n",
    "df_all_bks = df_all_bks.to_frame()"
   ]
  },
  {
   "cell_type": "code",
   "execution_count": null,
   "id": "1896a738",
   "metadata": {
    "scrolled": true
   },
   "outputs": [],
   "source": [
    "df_all_bks.tail(3)"
   ]
  },
  {
   "cell_type": "markdown",
   "id": "45b6bca4",
   "metadata": {},
   "source": [
    "We now have a data frame with quarterly returns data that we can merge with the Bank Holding Company data."
   ]
  },
  {
   "cell_type": "markdown",
   "id": "6ee28fc0",
   "metadata": {},
   "source": [
    "\n",
    "---\n",
    "### Accounting data - Loading the Bank Holding Company Data  ###\n",
    "\n",
    "We now will use the downloaded BHC data, see the top of this notebook, to prepare the accounting data.\n",
    "\n",
    "The function below relies on [Assignment 1](https://github.com/blucap/EEA_Python_Primer/blob/master/assignment_1_solutions.ipynb). It sorts out the accounting data in one go."
   ]
  },
  {
   "cell_type": "code",
   "execution_count": null,
   "id": "44bdb681",
   "metadata": {},
   "outputs": [],
   "source": [
    "def load_bhc_data():\n",
    "    mdrm = {'RSSD9999': 'REPORTING DATE',\n",
    "            'RSSD9001': 'Borrower RSSD ID',\n",
    "            'RSSD9010': 'Entity Short Name',\n",
    "            'BHCK3210': 'Total Equity Capital',\n",
    "            'BHCK2170': 'Total Assets',\n",
    "            'BHCK4340': 'Net Income'}\n",
    "    var_list = [key for key, value in mdrm.items()]\n",
    "    df = pd.DataFrame()\n",
    "    for fname in glob.glob('BHCF*.ZIP'):\n",
    "        print(fname)\n",
    "        df = df.append(pd.read_csv(fname, sep='^', encoding=\"ISO-8859-1\", low_memory=False))\n",
    "    df = df[var_list]\n",
    "    # Create a date variable that matches the price data panel.\n",
    "    df['datadate'] = pd.to_datetime(df['RSSD9999'], format = '%Y%m%d')\n",
    "    df.set_index(['RSSD9001' , 'datadate'], inplace=True)\n",
    "    # Get rid of rows without the relevant accounting data:\n",
    "    df.dropna(subset = [x for x in df if x.startswith('BHCK')], inplace=True)\n",
    "    print(f'\\nDone!\\n\\nTotal rows in data frame: {len(df)}')\n",
    "    print(f'Total variables in data frame: {len(list(df))}\\n')\n",
    "    df.sort_index(inplace = True) # sort along the index\n",
    "    return df, mdrm\n",
    "\n",
    "df, mdrm = load_bhc_data()"
   ]
  },
  {
   "cell_type": "code",
   "execution_count": null,
   "id": "c3768074",
   "metadata": {},
   "outputs": [],
   "source": [
    "df.head(3)"
   ]
  },
  {
   "cell_type": "code",
   "execution_count": null,
   "id": "36961448",
   "metadata": {},
   "outputs": [],
   "source": [
    "df.tail(3)"
   ]
  },
  {
   "cell_type": "markdown",
   "id": "26edacd1",
   "metadata": {},
   "source": [
    "---\n",
    "#### Adding the ticker codes from file ####\n",
    "\n",
    "The next cells \n",
    "\n",
    "- load a file from disk that allows you to link the bank ids `RSSD9001` to the `ticker` data,\n",
    "- join that data with data frame `df`. To perform this join, we should reset the index and set it to match on ticker and date,\n",
    "- eliminate rows without ticker,\n",
    "- and finally resets the index to its previous state, with index `['RSSD9001', 'datadate']`."
   ]
  },
  {
   "cell_type": "code",
   "execution_count": null,
   "id": "4da286d1",
   "metadata": {},
   "outputs": [],
   "source": [
    "dft_r = pd.read_csv('ticker_rssd.csv').set_index(['RSSD9001'])"
   ]
  },
  {
   "cell_type": "code",
   "execution_count": null,
   "id": "dff46697",
   "metadata": {},
   "outputs": [],
   "source": [
    "dft_r.head()"
   ]
  },
  {
   "cell_type": "code",
   "execution_count": null,
   "id": "633de2c3",
   "metadata": {},
   "outputs": [],
   "source": [
    "df = df.reset_index().set_index(['RSSD9001']).join(dft_r).dropna(subset=['ticker'])\n",
    "df.head()"
   ]
  },
  {
   "cell_type": "code",
   "execution_count": null,
   "id": "bbd0b3bf",
   "metadata": {},
   "outputs": [],
   "source": [
    "df = df.reset_index().set_index(['RSSD9001', 'datadate'])\n",
    "df.head(3)"
   ]
  },
  {
   "cell_type": "markdown",
   "id": "b19edcec",
   "metadata": {},
   "source": [
    "We now have a neat data frame which we can use for panel data analysis.\n",
    "\n",
    "However, sometimes we may want to use lagged data.\n",
    "\n",
    "Unlike with Stata, which creates lagged data with ease, Pandas requires a bit more work. However, this is really doable.\n",
    "\n",
    "---\n",
    "\n",
    "### Lagging, leading, ... shifting  ###\n",
    "\n",
    "The Pandas way of creating lagged data is by way of `shift`. This command plays tricks with the index, which ideally should be a Datetime Index.\n",
    "\n",
    "Let's try it for Bank of America (you guessed it right, I am an account holder of that bank).\n"
   ]
  },
  {
   "cell_type": "code",
   "execution_count": null,
   "id": "9e0ab4c0",
   "metadata": {},
   "outputs": [],
   "source": [
    "boa = df.loc[1073757] # Which leaves datadate as the index - clever!\n",
    "boa.head(3)"
   ]
  },
  {
   "cell_type": "code",
   "execution_count": null,
   "id": "fe5d1877",
   "metadata": {},
   "outputs": [],
   "source": [
    "# Check if the index is indeed a DatetimeIndex \n",
    "boa.info()"
   ]
  },
  {
   "cell_type": "markdown",
   "id": "408f3771",
   "metadata": {},
   "source": [
    "Now do the shift:"
   ]
  },
  {
   "cell_type": "code",
   "execution_count": null,
   "id": "2c30a43f",
   "metadata": {},
   "outputs": [],
   "source": [
    "boa.shift(3)"
   ]
  },
  {
   "cell_type": "markdown",
   "id": "46facd8d",
   "metadata": {},
   "source": [
    "The result is not entirely compelling. Yes, the data is shifted by three rows, but we end up with some empty cells. Moreover, this approach may lead to problems if we apply this to the entire frame, it may lead to data being shifted to rows that 'belong' to the wrong dates or banks.   \n",
    "\n",
    "It is better to tell Pandas the proper offset, e.g. in months."
   ]
  },
  {
   "cell_type": "code",
   "execution_count": null,
   "id": "9df72099",
   "metadata": {
    "scrolled": false
   },
   "outputs": [],
   "source": [
    "# Do the shift for three months \n",
    "boa.shift(3, freq = 'M')"
   ]
  },
  {
   "cell_type": "markdown",
   "id": "634d1968",
   "metadata": {},
   "source": [
    "You can see that data from 20190930 (September) now has a time stamp of 2019-12-31 (December). \n",
    "\n",
    "This is great! We can use the shifted data and join it with the main data frame. The resulting data frame will have a set of lagged variables.\n",
    "\n",
    "**Now let's apply this for the entire data frame:**"
   ]
  },
  {
   "cell_type": "markdown",
   "id": "f4232c25",
   "metadata": {},
   "source": [
    "**Step 1**: make sure we set the proper (Datetime) Index"
   ]
  },
  {
   "cell_type": "code",
   "execution_count": null,
   "id": "4e44becd",
   "metadata": {},
   "outputs": [],
   "source": [
    "df = df.reset_index().set_index(['datadate'])\n",
    "df.head(3)"
   ]
  },
  {
   "cell_type": "markdown",
   "id": "4d5dff05",
   "metadata": {},
   "source": [
    "**Step 2**: group by bank (`RSSD9001`) and apply `shift` to the accounting variables only: Equity, Total Assets, Net Income (`BHCK3210`, `BHCK2170`, `BHCK4340`). \n",
    "\n",
    "Assign the result to a data frame `df_lag`."
   ]
  },
  {
   "cell_type": "code",
   "execution_count": null,
   "id": "44c35213",
   "metadata": {},
   "outputs": [],
   "source": [
    "df_lag = df.groupby(['RSSD9001'])[['BHCK3210', 'BHCK2170', 'BHCK4340']].shift(3, freq = 'M')\n",
    "df_lag.head()"
   ]
  },
  {
   "cell_type": "code",
   "execution_count": null,
   "id": "227ea04a",
   "metadata": {},
   "outputs": [],
   "source": [
    "# Compare to\n",
    "df[['BHCK3210', 'BHCK2170', 'BHCK4340']].head()"
   ]
  },
  {
   "cell_type": "markdown",
   "id": "bbdba489",
   "metadata": {},
   "source": [
    "**Step 3**: join both frames, and use `_lag` as a suffix, to properly name the variables.\n",
    "\n",
    "But first reset the index of the main data frame to `['RSSD9001', 'datadate']`. Else we cannot join on the two dimensions.\n",
    "    "
   ]
  },
  {
   "cell_type": "code",
   "execution_count": null,
   "id": "08c32768",
   "metadata": {},
   "outputs": [],
   "source": [
    "df = df.reset_index().set_index(['RSSD9001', 'datadate'])\n",
    "dfj = df.join(df_lag, rsuffix='_lag')\n",
    "dfj.head()"
   ]
  },
  {
   "cell_type": "markdown",
   "id": "30936eb4",
   "metadata": {},
   "source": [
    "---\n",
    "#### Consolidating the process of shifting in a few rows:\n",
    "\n",
    "The cell below summarizes the process of loading that, adding the tickers, and shifting in a few lines:"
   ]
  },
  {
   "cell_type": "code",
   "execution_count": null,
   "id": "8af99742",
   "metadata": {},
   "outputs": [],
   "source": [
    "# Prepare the main data\n",
    "# Load the data\n",
    "df, mdrm = load_bhc_data()\n",
    "# Load the tickers\n",
    "dft_r = pd.read_csv('ticker_rssd.csv').set_index(['RSSD9001'])\n",
    "# join the tickers\n",
    "df = df.reset_index().set_index(['RSSD9001']).join(dft_r).dropna(subset=['ticker'])\n",
    "# set the index\n",
    "df = df.reset_index().set_index(['RSSD9001', 'datadate'])\n",
    "\n",
    "# Do the shift - create and add lagged variables\n",
    "df_lag = df.reset_index().set_index(['datadate']).groupby(['RSSD9001'])[['BHCK3210', 'BHCK2170', 'BHCK4340']].shift(3, freq = 'M')\n",
    "\n",
    "dfj = df.join(df_lag, rsuffix='_lag')"
   ]
  },
  {
   "cell_type": "code",
   "execution_count": null,
   "id": "9d0ef20a",
   "metadata": {},
   "outputs": [],
   "source": [
    "len(dfj)"
   ]
  },
  {
   "cell_type": "code",
   "execution_count": null,
   "id": "57951f6c",
   "metadata": {
    "scrolled": true
   },
   "outputs": [],
   "source": [
    "dfj.head(8)"
   ]
  },
  {
   "cell_type": "markdown",
   "id": "db8ae45b",
   "metadata": {},
   "source": [
    "---\n",
    "#### Create a Return on Equity variable ####\n",
    "\n",
    "With the data frame in good shape we can calculate a column for Return on Equity, which uses the average equity value as denominator (`mu_equity`):\n"
   ]
  },
  {
   "cell_type": "code",
   "execution_count": null,
   "id": "eb03df12",
   "metadata": {},
   "outputs": [],
   "source": [
    "dfj['mu_equity'] = dfj[['BHCK3210', 'BHCK3210_lag']].mean(axis=1, skipna=False)\n",
    "\n",
    "dfj['roe']  = dfj['BHCK4340'] / dfj['mu_equity']\n",
    "\n",
    "roe = dfj['roe'].groupby('datadate').mean()\n",
    "roe"
   ]
  },
  {
   "cell_type": "code",
   "execution_count": null,
   "id": "23eb29ae",
   "metadata": {
    "scrolled": true
   },
   "outputs": [],
   "source": [
    "roe.plot(kind= 'bar')"
   ]
  },
  {
   "cell_type": "code",
   "execution_count": null,
   "id": "77b0a5db",
   "metadata": {},
   "outputs": [],
   "source": [
    "roe.resample('A-DEC').last().plot(kind = 'bar')"
   ]
  },
  {
   "cell_type": "code",
   "execution_count": null,
   "id": "234d5d12",
   "metadata": {},
   "outputs": [],
   "source": [
    "roe.resample('A-MAR').last().plot(kind = 'bar')"
   ]
  },
  {
   "cell_type": "markdown",
   "id": "6bbf81ec",
   "metadata": {},
   "source": [
    "---\n",
    "\n",
    "Note that the ROE data cumulates over the year, thus not showing the true quarterly data.\n",
    "\n",
    "We can solve this by \n",
    "\n",
    "- taking the difference in net income `BHCK4340` per year, bank. Then store the differences in a separate data frame (`dfo`), in a separate column `BHCK4340_q`;\n",
    "- join that data frame with the main frame (`dfj`);\n",
    "- then add the first quarter values of `BHCK4340` to `BHCK4340_q`\n",
    "- then create a new `roe` column.\n",
    "\n",
    "To make this work we first need some new columns in `dfj`: `year`, and `quarter_no`.\n",
    "\n"
   ]
  },
  {
   "cell_type": "code",
   "execution_count": null,
   "id": "e6b95131",
   "metadata": {},
   "outputs": [],
   "source": [
    "# Add `year`, and `quarter_no` to dfj\n",
    "dfj.reset_index(inplace=True)\n",
    "dfj['year'] = dfj.datadate.dt.year\n",
    "dfj['quarter_no'] = dfj.datadate.dt.quarter\n",
    "dfj['quarter'] = pd.PeriodIndex(dfj['datadate'], freq='Q') # Let's do this one as well \n",
    "dfj.set_index(['RSSD9001', 'datadate'], inplace = True)"
   ]
  },
  {
   "cell_type": "code",
   "execution_count": null,
   "id": "518b8a23",
   "metadata": {
    "scrolled": true
   },
   "outputs": [],
   "source": [
    "dfj.tail(8)"
   ]
  },
  {
   "cell_type": "code",
   "execution_count": null,
   "id": "9be07fbb",
   "metadata": {},
   "outputs": [],
   "source": [
    "# using diff to create first differences by bank and year\n",
    "dfo = dfj.groupby(['RSSD9010', 'year'])['BHCK4340'].diff(1).to_frame()\n",
    "dfo"
   ]
  },
  {
   "cell_type": "code",
   "execution_count": null,
   "id": "953dc72d",
   "metadata": {},
   "outputs": [],
   "source": [
    "# Join dfo with dfj\n",
    "dfj = dfj.join(dfo, rsuffix='_q')"
   ]
  },
  {
   "cell_type": "code",
   "execution_count": null,
   "id": "d4f20b26",
   "metadata": {},
   "outputs": [],
   "source": [
    "dfj.head(8)"
   ]
  },
  {
   "cell_type": "code",
   "execution_count": null,
   "id": "dcfbf178",
   "metadata": {},
   "outputs": [],
   "source": [
    "# For first quarter rows, copy the values from BHCK4340 to BHCK4340_q\n",
    "dfj.loc[dfj[\"quarter_no\"]==1,'BHCK4340_q'] = dfj.loc[dfj[\"quarter_no\"]==1,'BHCK4340'] \n",
    "dfj"
   ]
  },
  {
   "cell_type": "code",
   "execution_count": null,
   "id": "2a952cad",
   "metadata": {},
   "outputs": [],
   "source": [
    "dfj['roe_improved'] = dfj['BHCK4340_q'] / dfj['mu_equity']\n",
    "dfj['roe_improved']"
   ]
  },
  {
   "cell_type": "code",
   "execution_count": null,
   "id": "2c418ce4",
   "metadata": {},
   "outputs": [],
   "source": [
    "roe_mark2 = dfj['roe_improved']\n",
    "roe_mark2.groupby('datadate').mean().dropna().plot(kind='bar')"
   ]
  },
  {
   "cell_type": "markdown",
   "id": "d65bb897",
   "metadata": {},
   "source": [
    "---\n",
    "### Merging price and accounting data \n",
    "\n",
    "The last step of this Session merges the `dfj` frame with accounting data with the price data file `df_all_bks`.\n",
    "\n",
    "To make this work, we need to reset  the index of `dfj` to `['ticker', 'quarter']`."
   ]
  },
  {
   "cell_type": "code",
   "execution_count": null,
   "id": "a7e3e780",
   "metadata": {},
   "outputs": [],
   "source": [
    "dfj = dfj.reset_index().set_index(['ticker', 'quarter'])"
   ]
  },
  {
   "cell_type": "code",
   "execution_count": null,
   "id": "e477a260",
   "metadata": {},
   "outputs": [],
   "source": [
    "df_all_bks.head(3)"
   ]
  },
  {
   "cell_type": "code",
   "execution_count": null,
   "id": "8f3b1cb8",
   "metadata": {},
   "outputs": [],
   "source": [
    "dfj.head(3)"
   ]
  },
  {
   "cell_type": "code",
   "execution_count": null,
   "id": "4ecd4cdd",
   "metadata": {},
   "outputs": [],
   "source": [
    "dfj = dfj.join(df_all_bks)"
   ]
  },
  {
   "cell_type": "code",
   "execution_count": null,
   "id": "8f19da01",
   "metadata": {},
   "outputs": [],
   "source": [
    "dfj"
   ]
  }
 ],
 "metadata": {
  "kernelspec": {
   "display_name": "Python 3 (ipykernel)",
   "language": "python",
   "name": "python3"
  },
  "language_info": {
   "codemirror_mode": {
    "name": "ipython",
    "version": 3
   },
   "file_extension": ".py",
   "mimetype": "text/x-python",
   "name": "python",
   "nbconvert_exporter": "python",
   "pygments_lexer": "ipython3",
   "version": "3.8.12"
  }
 },
 "nbformat": 4,
 "nbformat_minor": 5
}
