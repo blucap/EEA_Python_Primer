{
 "cells": [
  {
   "cell_type": "markdown",
   "id": "15817af3",
   "metadata": {},
   "source": [
    "# Session 9: Analyze data using statistical libraries, text analysis, and web scraping"
   ]
  },
  {
   "cell_type": "markdown",
   "id": "5941540a",
   "metadata": {},
   "source": [
    "---\n",
    "\n",
    "This three-part session starts with data analysis using two stats libraries:\n",
    "\n",
    "- [statsmodels](https://www.statsmodels.org/dev/index.html) and \n",
    "- [linearmodels](https://bashtage.github.io/linearmodels/panel/introduction.html)\n",
    "\n",
    "The linearmodels library works well with panel data and data frames with multi indexes.\n",
    "\n",
    "The libraries allow you to easily formulate you regression models, and conveniently select the results from the regression output. You can select coefficients and *t*-stats, or *p*-values, add them to a data frame (i.e. a table), and export that data frame to LaTeX, markdown, or cvs / Excel format.\n",
    "\n",
    "**The second part** is a brief intro into text analysis using Natural Language Toolkit: [NLTK](https://www.nltk.org/).\n",
    "\n",
    "**The last part** is about web-scraping, which features a script that I wrote to collect information from `ssrn.com` for reference management. It uses the [beautifulsoup](https://beautiful-soup-4.readthedocs.io/en/latest/#) library.\n",
    "\n",
    "Learning  objectives:\n",
    "\n",
    "- How to create tables with descriptives of your data.\n",
    "- Perform regression analyses with [statsmodels](https://www.statsmodels.org/dev/index.html) and [linearmodels](https://bashtage.github.io/linearmodels/panel/introduction.html) and extract parameters for presentations in tabular form.\n",
    "- Analyze text from financial reports using [nltk](https://www.nltk.org/) and pandas.\n",
    "- Scrape a website using [beautifulsoup](https://beautiful-soup-4.readthedocs.io/en/latest/#).\n",
    "\n",
    "\n",
    "\n",
    "\n",
    "\n"
   ]
  },
  {
   "cell_type": "markdown",
   "id": "3550e8fd",
   "metadata": {},
   "source": [
    "---\n",
    "### Part 1: Regression analysis ###\n",
    "\n",
    "We use the U.S. Bank Holding Company as described from [Session 7](https://martien.netlify.app/slides/session7/).\n",
    "\n",
    "#### Introduction - preparation\n",
    "\n",
    "**Price data**\n",
    "\n",
    "You will download prices of us Bank Holding Companies using the [**yfinance**](https://pypi.org/project/yfinance/) module. To install this module using Anaconda prompt, run `pip install yfinance`.\n",
    "\n",
    "**Accounting data**\n",
    "\n",
    "You will also use the bank holding company data used in the [first assignment](https://github.com/blucap/EEA_Python_Primer/blob/master/assignment_1_solutions.ipynb). \n",
    "\n",
    "For this Session you need to:  \n",
    "\n",
    "- **Download the BHC data** for [2019](https://www.ffiec.gov/npw/FinancialReport/FinancialDataDownload?selectedyear=2019),  [2020](https://www.ffiec.gov/npw/FinancialReport/FinancialDataDownload?selectedyear=2020), and  [2021](https://www.ffiec.gov/npw/FinancialReport/FinancialDataDownload?selectedyear=2021). \n",
    "- **Save** the files to a folder on your drive, e.g. `D:/users/my_user_name_here/EAA_python/code/`. The files are zip- compressed (`BHCF20200331.ZIP`, ...,  `BHCF20211231.ZIP`) - **but there is no need to extract the contents of the zip files**. Pandas will do that for you.\n",
    "- **Save** the file `ticker_rssd.csv` (see [GitHub](https://github.com/blucap/EEA_Python_Primer)) to the same folder.\n",
    "\n",
    "Run the cells below after setting the correct source folder of your files, i.e. replace `my_user_name_here` with something that works on your machine. See this [link](https://www.youtube.com/watch?v=hUW5MEKDtMM) and this [link](https://www.youtube.com/watch?v=7ABkcHLdG_A) for explanations of folders and directories.\n",
    "\n"
   ]
  },
  {
   "cell_type": "code",
   "execution_count": null,
   "id": "a180e431",
   "metadata": {},
   "outputs": [],
   "source": [
    "# the familiar preamble\n",
    "import pandas as pd\n",
    "import numpy as np\n",
    "\n",
    "# For this session\n",
    "import glob # for iterating through a folder\n",
    "import os # To set our working folder\n",
    "from pandas.tseries.offsets import MonthEnd # To set dates to the end of the month\n",
    "import yfinance as yf  # This gets us prices from Yahoo finance. See https://pypi.org/project/yfinance/\n",
    "\n",
    "if os.name=='nt':  # for Windows users\n",
    "    os.chdir('D:/users/my_user_name_here/EAA_python/data/')  # note the forward slashes, change 'martien' to your user name\n",
    "else:\n",
    "    os.chdir('/home/EAA_python/data/')  # For Linux or Mac"
   ]
  },
  {
   "cell_type": "markdown",
   "id": "f57ed382",
   "metadata": {},
   "source": [
    "---\n",
    "\n",
    "**Step 1a**: Create accounting data"
   ]
  },
  {
   "cell_type": "code",
   "execution_count": null,
   "id": "3047e188",
   "metadata": {},
   "outputs": [],
   "source": [
    "def load_bhc_data():\n",
    "    mdrm = {'RSSD9999': 'ReportingDate',\n",
    "            'RSSD9001': 'ID',\n",
    "            'RSSD9010': 'Name',\n",
    "            'BHCK3210': 'Equity',\n",
    "            'BHCK2170': 'TotalAssets',\n",
    "            'BHCK4340': 'NetIncome'}\n",
    "    var_list = [key for key, value in mdrm.items()]\n",
    "    df = pd.DataFrame()\n",
    "    for fname in glob.glob('BHCF*.ZIP'):\n",
    "        print(fname)\n",
    "        df = df.append(pd.read_csv(fname, sep='^', encoding=\"ISO-8859-1\", low_memory=False))\n",
    "    df = df[var_list]\n",
    "    \n",
    "    # Create a date variable that matches the price data panel.\n",
    "    df['datadate'] = pd.to_datetime(df['RSSD9999'], format = '%Y%m%d')\n",
    "    df.set_index(['RSSD9001' , 'datadate'], inplace=True)\n",
    "    # Get rid of rows without the relevant accounting data:\n",
    "    df.dropna(subset = [x for x in df if x.startswith('BHCK')], inplace=True)\n",
    "    df.sort_index(inplace = True) # sort along the index\n",
    "    # read tickers\n",
    "    dft_r = pd.read_csv('ticker_rssd.csv').set_index(['RSSD9001'])\n",
    "    # join the tickers\n",
    "    df = df.reset_index().set_index(['RSSD9001']).join(dft_r).dropna(subset=['ticker'])\n",
    "    # set the index\n",
    "    df = df.reset_index().set_index(['RSSD9001', 'datadate'])\n",
    "    # Do the shift - create and add lagged variables\n",
    "    df_lag = df.reset_index().set_index(['datadate']).groupby(['RSSD9001'])[['BHCK3210', 'BHCK2170', 'BHCK4340']].shift(3, freq = 'M')\n",
    "    # Join lagged variables\n",
    "    dfj = df.join(df_lag, rsuffix='_lag')\n",
    "    \n",
    "    # Add date variables to dfj\n",
    "    dfj.reset_index(inplace=True)\n",
    "    dfj['year'] = dfj.datadate.dt.year\n",
    "    dfj['quarter_no'] = dfj.datadate.dt.quarter\n",
    "    dfj['quarter'] = pd.PeriodIndex(dfj['datadate'], freq='Q') # Let's do this one as well \n",
    "    dfj.set_index(['RSSD9001', 'datadate'], inplace = True)\n",
    "    \n",
    "    dfo = dfj.groupby(['RSSD9010', 'year'])['BHCK4340'].diff(1).to_frame()\n",
    "    dfj = dfj.join(dfo, rsuffix='_q')\n",
    "    \n",
    "    # For first quarter rows, copy the values from BHCK4340 to BHCK4340_q\n",
    "    dfj.loc[dfj[\"quarter_no\"]==1,'BHCK4340_q'] = dfj.loc[dfj[\"quarter_no\"]==1,'BHCK4340'] \n",
    "    dfj['mu_equity'] = dfj[['BHCK3210', 'BHCK3210_lag']].mean(axis=1, skipna=False)\n",
    "    dfj['roe'] = dfj['BHCK4340_q'] / dfj['mu_equity']\n",
    "            \n",
    "    print(f'\\nDone!\\n\\nTotal rows in data frame: {len(dfj)}')\n",
    "    print(f'Total variables in data frame: {len(list(dfj))}\\n')\n",
    "    \n",
    "    return dfj, mdrm\n",
    "\n",
    "# Prepare the main data\n",
    "# Load the data\n",
    "df, mdrm = load_bhc_data()"
   ]
  },
  {
   "cell_type": "code",
   "execution_count": null,
   "id": "6612ce04",
   "metadata": {},
   "outputs": [],
   "source": [
    "df.head(3)"
   ]
  },
  {
   "cell_type": "markdown",
   "id": "e906552e",
   "metadata": {},
   "source": [
    "---\n",
    "\n",
    "**Step 1b**: Get returns data from Yahoo"
   ]
  },
  {
   "cell_type": "code",
   "execution_count": null,
   "id": "e525980d",
   "metadata": {},
   "outputs": [],
   "source": [
    "import yfinance as yf\n",
    "bank_list = ['AAIC', 'ABCB', 'ABTX', 'ACBI', 'ACNB', 'AI', 'AIG', 'AMNB', 'AMP', 'ANCX', 'AROW', 'ASB', 'ASRV', 'ATLO', 'AUB', 'AUBN', 'AX', 'BAC', 'BANC', 'BANF', 'BANR', 'BCBP', 'BEN', 'BFIN', 'BFST', 'BHB', 'BHLB', 'BK', 'BKSC', 'BKU', 'BMRC', 'BMTC', 'BOH', 'BOKF', 'BPOP', 'BRKL', 'BSRR', 'BSVN', 'BUSE', 'BWB', 'BWFG', 'BY', 'C', 'CAC', 'CADE', 'CARV', 'CASH', 'CASS', 'CATC', 'CATY', 'CBAN', 'CBFV', 'CBNK', 'CBSH', 'CBTX', 'CBU', 'CCBG', 'CCNE', 'CFB', 'CFFI', 'CFFN', 'CFG', 'CFNB', 'CFR', 'CHCO', 'CHMG', 'CIT', 'CIVB', 'CIZN', 'CLBK', 'CMA', 'CNOB', 'COF', 'COLB', 'CPF', 'CSTR', 'CTBI', 'CUBI', 'CVBF', 'CVCY', 'CVLY', 'CWBC', 'CZNC', 'CZWI', 'DCOM', 'DFS', 'EBMT', 'EBTC', 'EFSC', 'EGBN', 'EMCF', 'EQBK', 'ESSA', 'EVBN', 'EVER', 'EWBC', 'FAF', 'FBC', 'FBIZ', 'FBK', 'FBMS', 'FBNC', 'FBP', 'FCB', 'FCBC', 'FCCO', 'FCCY', 'FCF', 'FCNCA', 'FFBC', 'FFIC', 'FFIN', 'FFNW', 'FFWM', 'FGBI', 'FHN', 'FIBK', 'FISI', 'FITB', 'FLIC', 'FMAO', 'FMBH', 'FMBI', 'FMNB', 'FNB', 'FNCB', 'FNLC', 'FNWB', 'FRBK', 'FRME', 'FSFG', 'FULT', 'FUNC', 'FUSB', 'GABC', 'GBCI', 'GBNK', 'GFED', 'GLBZ', 'GNBC', 'GNTY', 'GSBC', 'GWB', 'HAFC', 'HBAN', 'HBCP', 'HBMD', 'HBNC', 'HBT', 'HFWA', 'HMNF', 'HMST', 'HOMB', 'HONE', 'HOPE', 'HTBI', 'HTBK', 'HTH', 'HTLF', 'HWBK', 'HWC', 'IBCP', 'IBOC', 'IBTX', 'INBK', 'INDB', 'IROQ', 'ISBC', 'ISTR', 'JPM', 'KEY', 'KRNY', 'LARK', 'LBAI', 'LCNB', 'LEVL', 'LION', 'LKFN', 'LMST', 'LOB', 'MBCN', 'MBIN', 'MBWM', 'MCBC', 'MGYR', 'MLVF', 'MOFG', 'MPB', 'MRLN', 'MSBI', 'MTB', 'MVBF', 'MYFW', 'NBHC', 'NBN', 'NBTB', 'NCBS', 'NFBK', 'NKSH', 'NRIM', 'NTRS', 'NWBI', 'NWFL', 'NYCB', 'OBNK', 'OCFC', 'OFG', 'ONB', 'OPHC', 'OPOF', 'ORRF', 'OSBC', 'OVBC', 'OVLY', 'OZK', 'PACW', 'PB', 'PBCT', 'PBHC', 'PBIP', 'PBNC', 'PCSB', 'PEBK', 'PEBO', 'PFBX', 'PFC', 'PFG', 'PFIS', 'PFS', 'PGC', 'PKBK', 'PLBC', 'PNBK', 'PNC', 'PNFP', 'PPBI', 'PRK', 'PROV', 'PVBC', 'PWOD', 'QCRH', 'RBB', 'RBCAA', 'RBNC', 'RF', 'RJF', 'RNST', 'RRBI', 'RVSB', 'SAL', 'SASR', 'SBCF', 'SBFG', 'SBSI', 'SBT', 'SCHW', 'SEIC', 'SF', 'SFBS', 'SFNC', 'SFST', 'SHBI', 'SIFI', 'SIVB', 'SMBC', 'SMBK', 'SMMF', 'SNV', 'SPFI', 'SRCE', 'SSB', 'STBA', 'STBZ', 'STL', 'STT', 'SYBT', 'SYF', 'TBBK', 'TBK', 'TBNK', 'TCBI', 'TCBK', 'TCFC', 'TFC', 'THFF', 'TMP', 'TRMK', 'TROW', 'TRST', 'TSBK', 'TSC', 'UBCP', 'UBFO', 'UBOH', 'UBSI', 'UCBI', 'UMBF', 'UMPQ', 'UNB', 'UNTY', 'USB', 'UVSP', 'VBFC', 'VBTX', 'VLY', 'WABC', 'WAFD', 'WAL', 'WASH', 'WBS', 'WFC', 'WNEB', 'WSBC', 'WSBF', 'WSFS', 'WTBA', 'WTFC', 'WVFC', 'ZION']\n",
    "dfy = yf.download(bank_list, start='2019-01-01', end='2021-12-31', progress=True)\n",
    "dfy.dropna(axis = 1, inplace=True, how= 'all')\n",
    "df_close = dfy['Adj Close']\n",
    "\n",
    "dfm = pd.melt(df_close.reset_index(), id_vars=['Date'], var_name='ticker', value_name='prc')\n",
    "dfm.dropna(inplace=True)\n",
    "dfm.rename(columns = {'Date': 'datadate'} , inplace=True)\n",
    "\n",
    "dfm['year']       = dfm.datadate.dt.year\n",
    "dfm['quarter_no'] = dfm.datadate.dt.quarter\n",
    "dfm['quarter']    = pd.PeriodIndex(dfm.datadate, freq='Q')  # See https://stackoverflow.com/questions/50459301/how-to-convert-dates-to-quarters-in-python\n",
    "\n",
    "dfm.set_index(['ticker', 'datadate'], inplace=True)\n",
    "\n",
    "dfm['dprc'] = dfm['prc'].groupby('ticker').pct_change() + 1\n",
    "dfm.dropna(subset = ['dprc'], inplace=True)  # Get rid of the row witout valied value change\n",
    "\n",
    "dfm_qtr_qp = dfm.groupby(['ticker', 'quarter'])\n",
    "\n",
    "df_all_bks = dfm_qtr_qp['dprc'].prod() - 1\n",
    "df_all_bks.head(3)\n"
   ]
  },
  {
   "cell_type": "markdown",
   "id": "3e46b966",
   "metadata": {},
   "source": [
    "---\n",
    "\n",
    "**Step 1c**: Merge the accounting and price data, rename some columns:"
   ]
  },
  {
   "cell_type": "code",
   "execution_count": null,
   "id": "a4799023",
   "metadata": {},
   "outputs": [],
   "source": [
    "df = df.reset_index().set_index(['ticker', 'quarter'])\n",
    "df = df.join(df_all_bks)\n",
    "mdrm['dprc'] = 'Returns'\n",
    "mdrm['roe'] = 'ROE'\n",
    "mdrm['BHCK4340_q'] = 'NetIncomeQ'\n",
    "df.rename(columns = mdrm, inplace=True)"
   ]
  },
  {
   "cell_type": "code",
   "execution_count": null,
   "id": "7725f589",
   "metadata": {
    "scrolled": true
   },
   "outputs": [],
   "source": [
    "df.head(3)"
   ]
  },
  {
   "cell_type": "markdown",
   "id": "34cb11d0",
   "metadata": {},
   "source": [
    "---\n",
    "\n",
    "**Step 2: Descriptive statistics**\n",
    "\n",
    "In this step we create tables that describe the data. The tables are data frames that can be exported to Excel, csv, LaTeX, markdown format. \n",
    "\n",
    "For the descriptives we first select the non-ratio columns:"
   ]
  },
  {
   "cell_type": "code",
   "execution_count": null,
   "id": "cede470b",
   "metadata": {},
   "outputs": [],
   "source": [
    "varlist = ['NetIncomeQ','TotalAssets','Equity']"
   ]
  },
  {
   "cell_type": "code",
   "execution_count": null,
   "id": "c378df5c",
   "metadata": {},
   "outputs": [],
   "source": [
    "df[varlist].describe(percentiles=[0.05, 0.25, 0.5, 0.75, 0.95]).T"
   ]
  },
  {
   "cell_type": "markdown",
   "id": "e4032bca",
   "metadata": {},
   "source": [
    "**Turning the line above in a pretty table**:"
   ]
  },
  {
   "cell_type": "code",
   "execution_count": null,
   "id": "51f8a2d7",
   "metadata": {},
   "outputs": [],
   "source": [
    "def table1(df, varlist, k, fmt):\n",
    "    table = df[varlist].describe(percentiles=[0.05, 0.25, 0.5, 0.75, 0.95]).T\n",
    "    table = table * k\n",
    "    table = table[['mean', 'min', '5%', '25%', '50%', '75%', '95%', 'max', 'std', 'count']]\n",
    "    if fmt:\n",
    "        table = table.applymap(\"{0:,.2f}\".format)\n",
    "    return(table)\n",
    "Tabel1a = table1(df, varlist, 0.001, True)\n",
    "Tabel1a\n"
   ]
  },
  {
   "cell_type": "markdown",
   "id": "0fad006c",
   "metadata": {},
   "source": [
    "**Likewise, for the ratios**:"
   ]
  },
  {
   "cell_type": "code",
   "execution_count": null,
   "id": "f6d3f78b",
   "metadata": {},
   "outputs": [],
   "source": [
    "Tabel1b = table1(df, ['ROE', 'Returns'], 100, True)\n",
    "Tabel1b"
   ]
  },
  {
   "cell_type": "code",
   "execution_count": null,
   "id": "ed69ec00",
   "metadata": {},
   "outputs": [],
   "source": [
    "Tabel1a.append(Tabel1a)"
   ]
  },
  {
   "cell_type": "code",
   "execution_count": null,
   "id": "3cef2a18",
   "metadata": {},
   "outputs": [],
   "source": [
    "def table2(df, varlist, fmt=False, freq = \"year\"):\n",
    "    years = df.groupby(freq)\n",
    "    table = years[varlist].mean() * 0.001\n",
    "    if fmt:\n",
    "        table = table.applymap(\"{0:,.2f}\".format)\n",
    "    table = table.join(years['TotalAssets'].count().to_frame(name='nobs'))\n",
    "    table = table[varlist + ['nobs']]\n",
    "    return(table)\n",
    "\n",
    "Tabel2 = table2(df, varlist, True)\n",
    "print('\\nMarkdown:\\n')\n",
    "print(Tabel2.to_markdown())  \n",
    "print('\\nLatex:\\n')\n",
    "print(Tabel2.to_latex())  "
   ]
  },
  {
   "cell_type": "markdown",
   "id": "a2fb08ac",
   "metadata": {},
   "source": [
    "---\n",
    "\n",
    "**Step 3a: Regressions using statsmodels**\n",
    "\n",
    "Basic regressions can be done with [statsmodels](https://www.statsmodels.org/stable/install.html).\n",
    "\n",
    "If not installed yet, install via:\n",
    "\n",
    "- `conda install -c conda-forge statsmodels` or \n",
    "- `pip install statsmodels`\n",
    "\n",
    "The cells below show the results of a regression of `Returns` on `ROE`. I add a constant using `sm.add_constant` and  year dummies using [`pd.get_dummies`](https://pandas.pydata.org/pandas-docs/stable/reference/api/pandas.get_dummies.html)."
   ]
  },
  {
   "cell_type": "code",
   "execution_count": null,
   "id": "c5834f86",
   "metadata": {},
   "outputs": [],
   "source": [
    "import statsmodels.api as sm\n",
    "\n",
    "data = df[['Returns', 'ROE']].join(pd.get_dummies(df['year'], prefix='year', drop_first=True)).dropna()\n",
    "\n",
    "data = sm.add_constant(data)\n",
    "\n",
    "x = data.loc[:,[x for x in data if x!='Returns']]\n",
    "\n",
    "y = data['Returns']\n",
    "\n",
    "res = sm.OLS(y, x).fit()\n",
    "print(res.summary())"
   ]
  },
  {
   "cell_type": "code",
   "execution_count": null,
   "id": "d3e8e42b",
   "metadata": {},
   "outputs": [],
   "source": [
    "# The coefficients:\n",
    "res.params"
   ]
  },
  {
   "cell_type": "markdown",
   "id": "70a0c861",
   "metadata": {},
   "source": [
    "The function below creates a table from the regression results:"
   ]
  },
  {
   "cell_type": "code",
   "execution_count": null,
   "id": "5e826004",
   "metadata": {},
   "outputs": [],
   "source": [
    "def reg_result(res, fmt):\n",
    "    result = pd.DataFrame(res.params).transpose()\n",
    "    result['rsq'] = res.rsquared_adj\n",
    "    result['nobs'] = res.nobs\n",
    "    trow = pd.DataFrame(res.tvalues).transpose()\n",
    "    result = result.append(trow, sort=False)\n",
    "    prow = pd.DataFrame(res.pvalues).transpose()\n",
    "    result = result.append(prow, sort=False)\n",
    "    result.index = ['b', 't', 'p']\n",
    "    if fmt:\n",
    "        result = result.applymap(\"{0:,.2f}\".format)\n",
    "    return result.T\n",
    "Table3 = reg_result(res, True)\n",
    "Table3"
   ]
  },
  {
   "cell_type": "markdown",
   "id": "366ca432",
   "metadata": {},
   "source": [
    "---\n",
    "\n",
    "**Using R-style formulas**\n",
    "\n",
    "For convenience there is a library (`statsmodels.formula.api `) that allows you to use R-style model specifications:"
   ]
  },
  {
   "cell_type": "code",
   "execution_count": null,
   "id": "8f72efa1",
   "metadata": {},
   "outputs": [],
   "source": [
    "import statsmodels.formula.api as smf"
   ]
  },
  {
   "cell_type": "code",
   "execution_count": null,
   "id": "85c00990",
   "metadata": {},
   "outputs": [],
   "source": [
    "data = df[['Returns', 'ROE']].join(pd.get_dummies(df['year'], prefix='Y', drop_first=True)).dropna()\n",
    "\n",
    "mod = smf.ols(formula='Returns ~ ROE + Y_2020 + Y_2021', data=data)\n",
    "\n",
    "res = mod.fit() \n",
    "\n",
    "# res = mod.fit(cov_type=\"hc1\") # https://cran.r-project.org/web/packages/sandwich/vignettes/sandwich.pdf\n",
    "\n",
    "print(res.summary())"
   ]
  },
  {
   "cell_type": "markdown",
   "id": "b8138572",
   "metadata": {},
   "source": [
    "---\n",
    "\n",
    "**Step 3b: Regressions using linearmodels**\n",
    "\n",
    "Linearmodels complements statsmodels regarding the estimation and inference in some common linear models that are missing from said library. \n",
    "\n",
    "- See the  linearmodels web-page [here](https://bashtage.github.io/linearmodels/#).\n",
    "- Install using `pip install linearmodels`, see [this page](https://pypi.org/project/linearmodels/)."
   ]
  },
  {
   "cell_type": "code",
   "execution_count": null,
   "id": "db1785a0",
   "metadata": {},
   "outputs": [],
   "source": [
    "from linearmodels.panel import PanelOLS\n",
    "from linearmodels.panel import PooledOLS\n",
    "from linearmodels.panel import RandomEffects\n",
    "from linearmodels.panel import compare"
   ]
  },
  {
   "cell_type": "markdown",
   "id": "c294b00e",
   "metadata": {},
   "source": [
    "Note that linearmodels will use the index, but the time-index needs to be a DateTime column. Currently it is a Period column, so we should make some adjustments."
   ]
  },
  {
   "cell_type": "code",
   "execution_count": null,
   "id": "260eecef",
   "metadata": {
    "scrolled": true
   },
   "outputs": [],
   "source": [
    "data = df[['Returns', 'ROE', 'datadate', 'ID']].reset_index().set_index(['ID', 'datadate']).dropna()"
   ]
  },
  {
   "cell_type": "markdown",
   "id": "112fd2fc",
   "metadata": {},
   "source": [
    "We can now run panel data regressions:"
   ]
  },
  {
   "cell_type": "code",
   "execution_count": null,
   "id": "30e4fe98",
   "metadata": {},
   "outputs": [],
   "source": [
    "# Pooled OLS\n",
    "mod = PooledOLS.from_formula(\"Returns ~ 1 + ROE\", data=data)\n",
    "pooled_res = mod.fit(cov_type=\"clustered\")\n",
    "print(pooled_res)"
   ]
  },
  {
   "cell_type": "code",
   "execution_count": null,
   "id": "9bd240b2",
   "metadata": {},
   "outputs": [],
   "source": [
    "# Random Effects\n",
    "mod = RandomEffects.from_formula(\"Returns ~ 1 + ROE\", data=data)\n",
    "re_res = mod.fit(cov_type=\"clustered\")\n",
    "print(re_res)"
   ]
  },
  {
   "cell_type": "code",
   "execution_count": null,
   "id": "a0821b1f",
   "metadata": {},
   "outputs": [],
   "source": [
    "# Fixed Effects\n",
    "mod = PanelOLS.from_formula(\"Returns ~ 1 + ROE + EntityEffects + TimeEffects\", data=data)\n",
    "fe_res = mod.fit(cov_type=\"clustered\")\n",
    "print(fe_res)"
   ]
  },
  {
   "cell_type": "code",
   "execution_count": null,
   "id": "b9ab906e",
   "metadata": {},
   "outputs": [],
   "source": [
    "# Fixed Effects\n",
    "mod = PanelOLS.from_formula(\"Returns ~ 1 + ROE + EntityEffects + TimeEffects\", data=data)\n",
    "fe_res_robust = mod.fit(cov_type=\"robust\")\n",
    "print(fe_res)"
   ]
  },
  {
   "cell_type": "markdown",
   "id": "65af4172",
   "metadata": {},
   "source": [
    "---\n",
    "Compare the results:"
   ]
  },
  {
   "cell_type": "code",
   "execution_count": null,
   "id": "f970c99f",
   "metadata": {},
   "outputs": [],
   "source": [
    "#import warnings\n",
    "#warnings.filterwarnings('ignore')\n",
    "#warnings.simplefilter('ignore')"
   ]
  },
  {
   "cell_type": "code",
   "execution_count": null,
   "id": "349efc9a",
   "metadata": {},
   "outputs": [],
   "source": [
    "print(compare({\"RE\": re_res, \"Pooled\": pooled_res, \"Fixed Effects\": fe_res, \"Fixed Effects Robust\": fe_res_robust}))"
   ]
  }
 ],
 "metadata": {
  "kernelspec": {
   "display_name": "Python 3 (ipykernel)",
   "language": "python",
   "name": "python3"
  },
  "language_info": {
   "codemirror_mode": {
    "name": "ipython",
    "version": 3
   },
   "file_extension": ".py",
   "mimetype": "text/x-python",
   "name": "python",
   "nbconvert_exporter": "python",
   "pygments_lexer": "ipython3",
   "version": "3.8.12"
  }
 },
 "nbformat": 4,
 "nbformat_minor": 5
}
