{
 "cells": [
  {
   "cell_type": "markdown",
   "id": "83de7d7e",
   "metadata": {},
   "source": [
    "# Session 5: Data munging with Pandas"
   ]
  },
  {
   "cell_type": "markdown",
   "id": "4221ea30",
   "metadata": {},
   "source": [
    "## [EAA - ARC Python Primer for Accounting Research](https://martien.netlify.app/book/example/)"
   ]
  },
  {
   "cell_type": "markdown",
   "id": "6d5d9db6",
   "metadata": {},
   "source": [
    "#### Use Pandas to explore, manage, clean data, deal with missing observations.\n",
    "---\n",
    "\n",
    "The cells below demonstrate how use Pandas to explore, manage, clean data, deal with missing observations.\n",
    "\n",
    "The focus of this session is on the use of [Pandas](https://pandas.pydata.org/), your friend for analyzing **Pa**nel **Da**ta.\n",
    "\n",
    "We will download and munge Google mobility data. \n",
    "\n",
    "An assignment, separately published, then will apply the techniques learned in this lesson to accounting data from U.S. bank holding companies (free, high-quality accounting data).\n",
    "\n",
    "Learning objectives:\n",
    "\n",
    " - Download  and explore data from the cloud\n",
    " - Make column names look pretty\n",
    " - Use the index of a data frame\n",
    " - Use the index to select rows\n",
    " - Select rows based on date(s)\n",
    " - Dealing with missing observations\n",
    " - Appending, replacing, and joining data\n",
    " - Make a pretty graph\n",
    " - Write functions"
   ]
  },
  {
   "cell_type": "markdown",
   "id": "e20ccf5e",
   "metadata": {},
   "source": [
    "### Google mobility data\n",
    "\n",
    "This data shows how your community is moving around differently due to [COVID-19](https://www.google.com/covid19/mobility/). The data is available via this [link](https://www.gstatic.com/covid19/mobility/Global_Mobility_Report.csv).\n",
    "\n",
    "Downloading takes some time, as it is big. We save the data to disk, compressed, to save space."
   ]
  },
  {
   "cell_type": "markdown",
   "id": "ca127811",
   "metadata": {},
   "source": [
    "**Let's start!**"
   ]
  },
  {
   "cell_type": "code",
   "execution_count": null,
   "id": "5146d756",
   "metadata": {},
   "outputs": [],
   "source": [
    "import pandas as pd \n",
    "import numpy as np"
   ]
  },
  {
   "cell_type": "markdown",
   "id": "7477c8e3",
   "metadata": {},
   "source": [
    "Normally you need not set the low_memory option to False, but hey, this is big data!"
   ]
  },
  {
   "cell_type": "code",
   "execution_count": null,
   "id": "f16cfd4c",
   "metadata": {},
   "outputs": [],
   "source": [
    "df = pd.read_csv('https://www.gstatic.com/covid19/mobility/Global_Mobility_Report.csv', low_memory=False)"
   ]
  },
  {
   "cell_type": "markdown",
   "id": "13e18342",
   "metadata": {},
   "source": [
    "Let's save the data, compressed, and ignore the index for now. I will come back to indexes shortly."
   ]
  },
  {
   "cell_type": "code",
   "execution_count": null,
   "id": "9ba7421d",
   "metadata": {},
   "outputs": [],
   "source": [
    "df.to_csv('Global_Mobility_Report.csv.zip', compression='zip', index=False)"
   ]
  },
  {
   "cell_type": "markdown",
   "id": "4409e80b",
   "metadata": {},
   "source": [
    "We can read the data using the following command. No need to unzip the zip file."
   ]
  },
  {
   "cell_type": "code",
   "execution_count": null,
   "id": "ab7b9975",
   "metadata": {},
   "outputs": [],
   "source": [
    "df = pd.read_csv('Global_Mobility_Report.csv.zip', low_memory=False)"
   ]
  },
  {
   "cell_type": "markdown",
   "id": "59f12678",
   "metadata": {},
   "source": [
    "\n",
    "\n",
    "**Let's explore the data frame:**"
   ]
  },
  {
   "cell_type": "code",
   "execution_count": null,
   "id": "55942b40",
   "metadata": {},
   "outputs": [],
   "source": [
    "df.head()"
   ]
  },
  {
   "cell_type": "markdown",
   "id": "77d3cec9",
   "metadata": {},
   "source": [
    "**Question**: How to show the last row(s) of the data frame?"
   ]
  },
  {
   "cell_type": "code",
   "execution_count": null,
   "id": "b8ccf2bd",
   "metadata": {},
   "outputs": [],
   "source": []
  },
  {
   "cell_type": "markdown",
   "id": "6bb137e0",
   "metadata": {},
   "source": [
    "More information on our data frame:"
   ]
  },
  {
   "cell_type": "code",
   "execution_count": null,
   "id": "59ba1c79",
   "metadata": {},
   "outputs": [],
   "source": [
    "df.info()"
   ]
  },
  {
   "cell_type": "code",
   "execution_count": null,
   "id": "3f5d8926",
   "metadata": {},
   "outputs": [],
   "source": [
    "df.count()"
   ]
  },
  {
   "cell_type": "code",
   "execution_count": null,
   "id": "8dff5064",
   "metadata": {},
   "outputs": [],
   "source": [
    "df['country_region'].value_counts()"
   ]
  },
  {
   "cell_type": "code",
   "execution_count": null,
   "id": "a3daaac7",
   "metadata": {},
   "outputs": [],
   "source": [
    "print(f'Shape {df.shape}, rows: {df.shape[0]}, columns: {df.shape[1]}')"
   ]
  },
  {
   "cell_type": "markdown",
   "id": "bbc28241",
   "metadata": {},
   "source": [
    "**Question**: can we use a shorter command to show the number of rows in the data frame?"
   ]
  },
  {
   "cell_type": "code",
   "execution_count": null,
   "id": "857e3163",
   "metadata": {},
   "outputs": [],
   "source": []
  },
  {
   "cell_type": "markdown",
   "id": "73c04e79",
   "metadata": {},
   "source": [
    "**Question**: How can we quickly list the column variables?"
   ]
  },
  {
   "cell_type": "code",
   "execution_count": null,
   "id": "233c8d6f",
   "metadata": {},
   "outputs": [],
   "source": []
  },
  {
   "cell_type": "markdown",
   "id": "a03709f4",
   "metadata": {},
   "source": [
    "---\n",
    "\n",
    "**Note the following in the data frame:**\n",
    "\n",
    "- The column names look awful, we will change that.\n",
    "- The leftmost column is the index. The index here is not meaningful. But we will make a habit of using the index. It is an extremely powerful feature of Pandas! \n",
    "- The number of observations is large: > 8 million. To make our life easy, we will keep only a few countries. \n",
    "- The date column is a float, we should turn that in a date variable.\n",
    "- There are observations called NaN, these are empty cells, and we will learn how to manage them. "
   ]
  },
  {
   "cell_type": "code",
   "execution_count": null,
   "id": "cf0fff10",
   "metadata": {},
   "outputs": [],
   "source": [
    "df.head(3)"
   ]
  },
  {
   "cell_type": "markdown",
   "id": "fbe507af",
   "metadata": {},
   "source": [
    "---\n",
    "\n",
    "### Changing column names ###\n",
    "\n",
    "The column names are very long. Let's make the shorter by eliminating this part:`_percent_change_from_baseline` from each column name.\n",
    "\n",
    "We use list comprehension to accomplish that. While walking over each column name, we eliminate the unwanted parts from each of them. "
   ]
  },
  {
   "cell_type": "code",
   "execution_count": null,
   "id": "edbee602",
   "metadata": {},
   "outputs": [],
   "source": [
    "df.columns = [x.replace('_percent_change_from_baseline', '') for x in list(df)]\n",
    "df.columns = [x.replace('_', ' ') for x in df]  # get rid of underscores\n",
    "df.columns = [x.strip() for x in df]  # get rid of leading and lagging space (like Excel's 'trim')\n",
    "df.columns = [x.capitalize() for x in df]  # Even nicer!\n",
    "df.head(3)"
   ]
  },
  {
   "cell_type": "code",
   "execution_count": null,
   "id": "0d9f4034",
   "metadata": {},
   "outputs": [],
   "source": [
    "list(df)"
   ]
  },
  {
   "cell_type": "markdown",
   "id": "97c3de8f",
   "metadata": {},
   "source": [
    "**Question**: We use four lines to change the column names. That is too much. Can we make the code in the cell above more efficient?"
   ]
  },
  {
   "cell_type": "code",
   "execution_count": null,
   "id": "04324328",
   "metadata": {},
   "outputs": [],
   "source": []
  },
  {
   "cell_type": "markdown",
   "id": "b3684989",
   "metadata": {},
   "source": [
    "---\n",
    "\n",
    "**Setting the index**\n",
    "\n",
    "Let's start with setting an index, as that will make it easier to manage the data. \n",
    "\n",
    "You can change the index whenever you want, so don't worry too much about setting them right or wrong.\n",
    "\n",
    "In this case I will set `country_region_code` as the index, because we want to select country observations.\n"
   ]
  },
  {
   "cell_type": "code",
   "execution_count": null,
   "id": "0d606bab",
   "metadata": {},
   "outputs": [],
   "source": [
    "df = df.set_index('Country region code')\n",
    "df.index"
   ]
  },
  {
   "cell_type": "code",
   "execution_count": null,
   "id": "add17d11",
   "metadata": {},
   "outputs": [],
   "source": [
    "df.head(3)"
   ]
  },
  {
   "cell_type": "markdown",
   "id": "b422192e",
   "metadata": {},
   "source": [
    "Note the index is now in **boldface**.\n"
   ]
  },
  {
   "cell_type": "markdown",
   "id": "1018d003",
   "metadata": {},
   "source": [
    "---\n",
    "\n",
    "**Keeping the data manageable**\n",
    "\n",
    "- For now, we want only New Zealand data.\n",
    "- We also don't want all identifying variables: we keep  the last 7 columns (from `date` to `residential_percent_change_from_baseline`.)\n",
    "\n",
    "To accomplish this we can use `loc` or, alternatively, the index. "
   ]
  },
  {
   "cell_type": "code",
   "execution_count": null,
   "id": "7139f25d",
   "metadata": {},
   "outputs": [],
   "source": [
    "# using loc, but for now not specifying columns\n",
    "dfnz = df.loc[df['Country region']==\"New Zealand\"]\n",
    "dfnz.head(3)"
   ]
  },
  {
   "cell_type": "code",
   "execution_count": null,
   "id": "d489bef8",
   "metadata": {},
   "outputs": [],
   "source": [
    "# using loc, specifying two columns. Note that the columns we need are in a list, between brackets.\n",
    "dfnz = df.loc[df['Country region']==\"New Zealand\", ['Date', 'Residential']]\n",
    "dfnz.head(3)"
   ]
  },
  {
   "cell_type": "code",
   "execution_count": null,
   "id": "110b9492",
   "metadata": {},
   "outputs": [],
   "source": [
    "# using loc, specifying columns the columns we need, with sliced column names:\n",
    "dfnz = df.loc[df['Country region']==\"New Zealand\",'Date':'Residential']\n",
    "dfnz.head(3)"
   ]
  },
  {
   "cell_type": "markdown",
   "id": "cda2960c",
   "metadata": {},
   "source": [
    "---\n",
    "\n",
    "**Data selection using the index** \n",
    "\n",
    "The loc. syntax is not always practical, especially if you select rows using multiple criteria. \n",
    "\n",
    "In many cases you can select rows using the index. \n",
    "\n",
    "Let's, for now, select data from the Netherlands using the index (NL). Remember, we set the index to `country_region_code` a while ago."
   ]
  },
  {
   "cell_type": "code",
   "execution_count": null,
   "id": "9ded9789",
   "metadata": {},
   "outputs": [],
   "source": [
    "dfnl = df.loc[\"NL\"]\n",
    "dfnl.head(3)"
   ]
  },
  {
   "cell_type": "markdown",
   "id": "3df5c3c1",
   "metadata": {},
   "source": [
    "---\n",
    "\n",
    "**Combining selections**\n",
    "\n",
    "**Question**: using the index, can combine selections, e.g. from a list of countries, say `[\"NL\",\"NZ\"]`?"
   ]
  },
  {
   "cell_type": "code",
   "execution_count": null,
   "id": "d89793c2",
   "metadata": {},
   "outputs": [],
   "source": [
    "\n",
    "# Show the head of the newly created data frame dfnlnz:\n"
   ]
  },
  {
   "cell_type": "code",
   "execution_count": null,
   "id": "90b5b087",
   "metadata": {},
   "outputs": [],
   "source": [
    "# Show the tail of dfnlnz:\n"
   ]
  },
  {
   "cell_type": "markdown",
   "id": "ffda7456",
   "metadata": {},
   "source": [
    "---\n",
    "\n",
    "**Specify columns when we select rows using the index**\n",
    "\n",
    "We specify the columns in a bracketed list:"
   ]
  },
  {
   "cell_type": "code",
   "execution_count": null,
   "id": "f9cf292c",
   "metadata": {},
   "outputs": [],
   "source": [
    "dfnl = df[['Date','Residential']].loc[\"NL\"]\n",
    "dfnl.head(3)"
   ]
  },
  {
   "cell_type": "markdown",
   "id": "202b8ab5",
   "metadata": {},
   "source": [
    "---\n",
    "Finally selecting the last 7 columns of the data frame for the New Zealand."
   ]
  },
  {
   "cell_type": "code",
   "execution_count": null,
   "id": "ad74b190",
   "metadata": {},
   "outputs": [],
   "source": [
    "dfnz = df.loc[\"NZ\", 'Date':'Residential']\n",
    "dfnz.head(3)"
   ]
  },
  {
   "cell_type": "code",
   "execution_count": null,
   "id": "3bc27dad",
   "metadata": {},
   "outputs": [],
   "source": [
    "dfnz.shape"
   ]
  },
  {
   "cell_type": "markdown",
   "id": "dcd9044e",
   "metadata": {},
   "source": [
    "---\n",
    "\n",
    "**Saving the data**\n",
    "\n",
    "We now have a much more easy to manage data frame. Let's save it. \n",
    "\n",
    "We want to keep the index, so we save the csv file without using the `index=False` parameter."
   ]
  },
  {
   "cell_type": "code",
   "execution_count": null,
   "id": "5c954556",
   "metadata": {},
   "outputs": [],
   "source": [
    "dfnz.to_csv('New_Zealand_Mobility_Report.csv')\n",
    "dfnz.head(3)"
   ]
  },
  {
   "cell_type": "markdown",
   "id": "a7d9491e",
   "metadata": {},
   "source": [
    "If you retrieve the csv data, you will need to set the index again, but don't worry about that for now."
   ]
  },
  {
   "cell_type": "code",
   "execution_count": null,
   "id": "901eaaad",
   "metadata": {},
   "outputs": [],
   "source": [
    "dfnz = pd.read_csv('New_Zealand_Mobility_Report.csv')\n",
    "dfnz.head(3)"
   ]
  },
  {
   "cell_type": "markdown",
   "id": "90f15e5d",
   "metadata": {},
   "source": [
    "---\n",
    "\n",
    "### Changing the date column in a proper date-time format ###\n",
    "\n",
    "\n",
    "We should change the date column in a proper date format. This allows us select rows on the basis of dates. \n",
    "\n",
    "We set the date column as index:"
   ]
  },
  {
   "cell_type": "code",
   "execution_count": null,
   "id": "8a068999",
   "metadata": {},
   "outputs": [],
   "source": [
    "dfnz['Date']= pd.to_datetime(dfnz['Date'])\n",
    "\n",
    "dfnz.set_index('Date', inplace=True) # This is equivalent to dfnz = dfnz.set_index('date'). \n",
    "                                     # The `inplace` parameter allows for shorter writing."
   ]
  },
  {
   "cell_type": "markdown",
   "id": "c8593103",
   "metadata": {},
   "source": [
    "Given that our data is only from New Zealand we do not need the `Country region code` column. "
   ]
  },
  {
   "cell_type": "code",
   "execution_count": null,
   "id": "71a96e82",
   "metadata": {},
   "outputs": [],
   "source": [
    "dfnz.drop(\"Country region code\", inplace=True, axis ='columns')  # To drop labels from columns set axis 1 or ‘columns’."
   ]
  },
  {
   "cell_type": "code",
   "execution_count": null,
   "id": "a6e217b0",
   "metadata": {},
   "outputs": [],
   "source": [
    "dfnz.tail(3)"
   ]
  },
  {
   "cell_type": "markdown",
   "id": "1423dc17",
   "metadata": {},
   "source": [
    "---\n",
    "\n",
    "**Date selection using the index** \n",
    "\n",
    "With Date as index, it is easy to select rows based on dates. Again, the index shows how powerful indexing is."
   ]
  },
  {
   "cell_type": "code",
   "execution_count": null,
   "id": "748ffe35",
   "metadata": {},
   "outputs": [],
   "source": [
    "# All observations from 2020:\n",
    "dfnz.loc['2020'].tail(2)"
   ]
  },
  {
   "cell_type": "markdown",
   "id": "ee299253",
   "metadata": {},
   "source": [
    "**Question**: Using the index, show only observations from this month:"
   ]
  },
  {
   "cell_type": "code",
   "execution_count": null,
   "id": "76b1e6c8",
   "metadata": {},
   "outputs": [],
   "source": []
  },
  {
   "cell_type": "code",
   "execution_count": null,
   "id": "bccbf3ef",
   "metadata": {},
   "outputs": [],
   "source": [
    "# All observations from the second half of 2021:\n",
    "dfnz.loc['2021-06':'2021-12']"
   ]
  },
  {
   "cell_type": "markdown",
   "id": "b4d691e8",
   "metadata": {},
   "source": [
    "---\n",
    "\n",
    "### Dealing with missing data (NaNs) ###\n",
    "\n",
    "Thus far we ignored the NaN's, which in many cases is fine. For example, when we want to calculate basic statistics:"
   ]
  },
  {
   "cell_type": "code",
   "execution_count": null,
   "id": "d410b1fb",
   "metadata": {},
   "outputs": [],
   "source": [
    "dfnz_june = dfnz.loc['2021-06']\n",
    "dfnz_june.describe()"
   ]
  },
  {
   "cell_type": "markdown",
   "id": "f1ff16c3",
   "metadata": {},
   "source": [
    "---\n",
    "\n",
    "We may want to use only complete cases, or exclude rows with missing data on some variables.\n",
    "\n",
    "- In that case we use `dropna()`"
   ]
  },
  {
   "cell_type": "code",
   "execution_count": null,
   "id": "2f461173",
   "metadata": {},
   "outputs": [],
   "source": [
    "dfnz_dropna_demo = dfnz_june.copy()  # First make a copy* from an original dataframe. \n",
    "dfnz_dropna_demo = dfnz_dropna_demo.dropna() \n",
    "dfnz_dropna_demo.describe()"
   ]
  },
  {
   "cell_type": "markdown",
   "id": "65a1927f",
   "metadata": {},
   "source": [
    "The documentation of [dropna](https://pandas.pydata.org/pandas-docs/stable/reference/api/pandas.DataFrame.dropna.html) shows that it is a powerful and versatile command.\n",
    "\n",
    "The default dropna() is aggressive: it deletes all rows with a NaN. \n",
    "\n",
    "**Questions**: \n",
    "\n",
    "- which parameter setting for dropna do you need to delete only the rows that are empty?\n",
    "- which parameter setting for dropna do you need to delete rows for which a specific column has missing values?\n",
    "- which parameter setting for dropna do you need to delete columns with missing values?\n"
   ]
  },
  {
   "cell_type": "markdown",
   "id": "cc196e54",
   "metadata": {},
   "source": [
    "We may also want to fill missing variables with, say, zeros.  \n",
    "\n",
    "- In that case we use `fillna()`"
   ]
  },
  {
   "cell_type": "code",
   "execution_count": null,
   "id": "8a3062c5",
   "metadata": {},
   "outputs": [],
   "source": [
    "dfnz_fillna_demo = dfnz_june.copy()    # First make a copy from an original dataframe.\n",
    "dfnz_fillna_demo.fillna(0, inplace = True)  # Now using inplace = True\n",
    "dfnz_fillna_demo"
   ]
  },
  {
   "cell_type": "markdown",
   "id": "a40bda1c",
   "metadata": {},
   "source": [
    "---\n",
    "\n",
    "### Appending dataframes ###\n",
    "\n",
    "Suppose we want a data frame where we append data from, say, June to data from September.\n",
    "\n",
    "We can achieve this with the `append` method:"
   ]
  },
  {
   "cell_type": "code",
   "execution_count": null,
   "id": "fdf48d9b",
   "metadata": {},
   "outputs": [],
   "source": [
    "dfnz_september = dfnz.loc['2021-09']\n",
    "dfnz_combined = dfnz_june.append(dfnz_september)\n",
    "dfnz_combined"
   ]
  },
  {
   "cell_type": "markdown",
   "id": "1f234426",
   "metadata": {},
   "source": [
    "**Question**: can we create `dfnz_combined` in a singly line, without creating `dfnz_september`?"
   ]
  },
  {
   "cell_type": "code",
   "execution_count": null,
   "id": "a45a12af",
   "metadata": {},
   "outputs": [],
   "source": []
  },
  {
   "cell_type": "markdown",
   "id": "072f5324",
   "metadata": {},
   "source": [
    "---\n",
    "\n",
    "### Replacing values ###\n",
    "\n",
    "Suppose we want to replace values in our data frame.\n",
    "\n",
    "We can achieve this with the `replace` method. (But there are more ways of achieving this). \n",
    "See this [link](https://pandas.pydata.org/pandas-docs/stable/reference/api/pandas.DataFrame.replace.html) and this [link](https://stackoverflow.com/questions/61996932/replacing-values-greater-1-in-a-large-pandas-dataframe) for more info on `replace`."
   ]
  },
  {
   "cell_type": "code",
   "execution_count": null,
   "id": "1b75f846",
   "metadata": {},
   "outputs": [],
   "source": [
    "dfr = dfnz_september.copy()  # First make a copy from an original dataframe.\n",
    "dfr = dfr.replace(0, 1)     # Replace all zero values by one \n",
    "\n",
    "dfr.loc[dfr['Grocery and pharmacy'] == 0] # Should return no valid rows."
   ]
  },
  {
   "cell_type": "markdown",
   "id": "f02dde44",
   "metadata": {},
   "source": [
    "---\n",
    "\n",
    "The following command allows us to replace all negative values by zero.\n",
    "\n",
    "Note, this applies to the entire frame, which is fine, because non-numerical data (in this case Date) are safely tucked away in the index, and won't be affected."
   ]
  },
  {
   "cell_type": "code",
   "execution_count": null,
   "id": "acc64dcf",
   "metadata": {},
   "outputs": [],
   "source": [
    "dfpos = dfnz_september.copy()  # First make a copy from an original dataframe.\n",
    "dfpos[dfpos < 0] = 0\n",
    "dfpos.min()"
   ]
  },
  {
   "cell_type": "markdown",
   "id": "47855d42",
   "metadata": {},
   "source": [
    "Applying this logic to a single column:"
   ]
  },
  {
   "cell_type": "code",
   "execution_count": null,
   "id": "270beb97",
   "metadata": {},
   "outputs": [],
   "source": [
    "dfpos = dfnz_september.copy()  # First make a copy from an original dataframe.\n",
    "dfpos['Workplaces'][dfpos['Workplaces']<0] = 0\n",
    "dfpos"
   ]
  },
  {
   "cell_type": "markdown",
   "id": "7ebb3127",
   "metadata": {},
   "source": [
    "Using .loc"
   ]
  },
  {
   "cell_type": "code",
   "execution_count": null,
   "id": "37693ede",
   "metadata": {},
   "outputs": [],
   "source": [
    "dfpos = dfnz_september.copy()  # First make a copy from an original dataframe.\n",
    "dfpos.loc[dfpos.Workplaces < 0, ['Parks', 'Workplaces']] = 0\n",
    "dfpos"
   ]
  },
  {
   "cell_type": "markdown",
   "id": "8acd1a61",
   "metadata": {},
   "source": [
    "---\n",
    "\n",
    "We can also use `clip` to achieve similar results, though in practice, I hardly use the clip command. \n",
    "\n",
    "You can use it to control the results per row, see this [link](https://pandas.pydata.org/pandas-docs/stable/reference/api/pandas.DataFrame.clip.html). "
   ]
  },
  {
   "cell_type": "code",
   "execution_count": null,
   "id": "e8c09bc6",
   "metadata": {},
   "outputs": [],
   "source": [
    "dfclip = dfnz_september.copy()  # First make a copy from an original dataframe.\n",
    "dfclip = dfclip.clip(lower=-50, upper=10)"
   ]
  },
  {
   "cell_type": "markdown",
   "id": "2b6537c7",
   "metadata": {},
   "source": [
    "**Question**: Can we apply a single command to the `dfclip` data frame to display only the minimum and maximum values - this  to verify the outcome of the cell above? Hint: use [`agg`](https://pandas.pydata.org/pandas-docs/stable/reference/api/pandas.DataFrame.agg.html?highlight=agg)."
   ]
  },
  {
   "cell_type": "code",
   "execution_count": null,
   "id": "c4b78b2d",
   "metadata": {},
   "outputs": [],
   "source": []
  },
  {
   "cell_type": "markdown",
   "id": "46acc7e2",
   "metadata": {},
   "source": [
    "---\n",
    "\n",
    "### Pandas Series ###\n",
    "\n",
    "Until now, we worked with Pandas Data Frames. However, in some cases we use Series. Pandas Series have only a single column. Otherwise they are pretty much the same as a Data Frame. \n",
    "\n",
    "The Series is the data structure for a single column of a DataFrame, not only conceptually, but literally, i.e. the data in a DataFrame is actually stored in memory as a collection of Series. \n",
    "\n",
    "When you select a single column from a data frame, you will get a series:"
   ]
  },
  {
   "cell_type": "code",
   "execution_count": null,
   "id": "241e4b6b",
   "metadata": {},
   "outputs": [],
   "source": [
    "s = dfnz['Parks']\n",
    "s.hist(bins=50)"
   ]
  },
  {
   "cell_type": "code",
   "execution_count": null,
   "id": "f801dd98",
   "metadata": {},
   "outputs": [],
   "source": [
    "#s.info() # Will give an error message\n",
    "s.shape"
   ]
  },
  {
   "cell_type": "code",
   "execution_count": null,
   "id": "77d9d5b6",
   "metadata": {},
   "outputs": [],
   "source": [
    "# Converting a series into a DataFrame:\n",
    "s.to_frame().head(3)"
   ]
  },
  {
   "cell_type": "markdown",
   "id": "b9668dd1",
   "metadata": {},
   "source": [
    "---\n",
    "\n",
    "### Joining data using the index ###\n",
    "\n",
    "Join data frames using the index is very easy, but it requires setting up the data. Both data frames need the same index.\n",
    "\n",
    "The next example shows how to add the country names in Spanish to the main data frame (df). \n",
    "\n",
    "We need a list of Spanish country names that we can merge on the `Country region code`, which is the current index of the main data frame.\n",
    "\n",
    "Luckily there is such a list: see this Github [link](https://github.com/stefangabos/world_countries/).\n",
    "\n",
    "The next code prepares the data from Github, and the returns a list properly prepared for joining. \n",
    "\n",
    "I decided to write a function that allows us to make country name lists for various languages. "
   ]
  },
  {
   "cell_type": "code",
   "execution_count": null,
   "id": "017784f3",
   "metadata": {},
   "outputs": [],
   "source": [
    "def intl_country_names(ctry, new_column_name):\n",
    "    # read from the cloud:\n",
    "    dfj = pd.read_csv('https://cdn.jsdelivr.net/npm/world_countries_lists@latest/data/'+ctry.lower()+'/countries.csv')\n",
    "    # convert the country codes to upper case:\n",
    "    dfj['alpha2'] = dfj['alpha2'].str.upper()  \n",
    "    # We need meaningful column names: \n",
    "    dfj.rename(columns = {'alpha2': 'Country region code', 'name': new_column_name}, inplace=True)\n",
    "    # We need the index name to be the same as the one of the main data frame\n",
    "    dfj = dfj.set_index('Country region code')\n",
    "    # We don' t need the following colums\n",
    "    dfj.drop(['id','alpha3'], inplace=True, axis ='columns')\n",
    "    return dfj\n",
    "\n",
    "dfj = intl_country_names('es', 'Nombre del país')\n",
    "dfj"
   ]
  },
  {
   "cell_type": "markdown",
   "id": "7d3c3681",
   "metadata": {},
   "source": [
    "The next step is to perform the merge, which is dead easy, because we rely on `Country region code` as the key column for joining."
   ]
  },
  {
   "cell_type": "code",
   "execution_count": null,
   "id": "f1b53834",
   "metadata": {},
   "outputs": [],
   "source": [
    "df = df.join(dfj)  "
   ]
  },
  {
   "cell_type": "code",
   "execution_count": null,
   "id": "503b7acd",
   "metadata": {},
   "outputs": [],
   "source": [
    "df['Nombre del país'].value_counts(normalize=True)"
   ]
  },
  {
   "cell_type": "markdown",
   "id": "368091a7",
   "metadata": {},
   "source": [
    "---\n",
    "\n",
    "**Question**: can we add a column with French names to our main data frame **without referring to a data frame directly**, but using the `intl_country_names` function instead? The relevant country code and column name are `fr` and  'Nom du pays'."
   ]
  },
  {
   "cell_type": "code",
   "execution_count": null,
   "id": "ec1ac98c",
   "metadata": {},
   "outputs": [],
   "source": []
  },
  {
   "cell_type": "markdown",
   "id": "fa9f8049",
   "metadata": {},
   "source": [
    "---\n",
    "\n",
    "### Performing operations on all but a few columns of a  data frame ###\n",
    "\n",
    "Suppose we want to divide all values of the NZ data frame by 100 (without affecting the index values). This is relatively easy:"
   ]
  },
  {
   "cell_type": "code",
   "execution_count": null,
   "id": "c3a7b9af",
   "metadata": {},
   "outputs": [],
   "source": [
    "dfnz /= 100"
   ]
  },
  {
   "cell_type": "code",
   "execution_count": null,
   "id": "94eb29b8",
   "metadata": {},
   "outputs": [],
   "source": [
    "dfnz.head(3)"
   ]
  },
  {
   "cell_type": "markdown",
   "id": "eb8b58c1",
   "metadata": {},
   "source": [
    "Again, this shows the power of indexing: You can 'hide' columns that you do not want to be affected by an operation in the index. Once you are done, you reset the index (by way of `df.reset_index(inplace=True)`) and continue working on your data frame. \n",
    "\n",
    "Of course, you can apply an operation to a single column (or a set of columns) by selecting them as shown before:\n",
    "`dfnz['Date'] = pd.to_datetime(dfnz['Date'])`. \n",
    "But, if all except for a few columns should undergo the same treatment, then the approach shown above is the way to go."
   ]
  },
  {
   "cell_type": "markdown",
   "id": "2546a02e",
   "metadata": {},
   "source": [
    "---\n",
    "### Consolidating our knowledge:  a graph ###\n",
    "\n",
    "What we learned today can be used to make a nice graph."
   ]
  },
  {
   "cell_type": "code",
   "execution_count": null,
   "id": "4e62bfc8",
   "metadata": {},
   "outputs": [],
   "source": [
    "dfnz.plot()"
   ]
  },
  {
   "cell_type": "markdown",
   "id": "52c9879b",
   "metadata": {},
   "source": [
    "Well, maybe we should tweak the graph.\n",
    "\n",
    "We can resample the data to weekly data, not daily, using the `resample` command:"
   ]
  },
  {
   "cell_type": "code",
   "execution_count": null,
   "id": "3c313be1",
   "metadata": {},
   "outputs": [],
   "source": [
    "dfnz.resample('W').mean().plot(figsize=(10,8), title= 'Mobility data: Percentage Change from Base line (NZ).')"
   ]
  },
  {
   "cell_type": "markdown",
   "id": "7ab3afbc",
   "metadata": {},
   "source": [
    "---\n",
    "### Consolidating our knowledge: a function that shows the graph and returns a proper data set  ###\n",
    "\n",
    "What we learned today can be combined into a single function, for which we can use the country code as an input. \n",
    "\n",
    "The start of the function checks if the data is already on disk. If not, it loads the data from the cloud."
   ]
  },
  {
   "cell_type": "code",
   "execution_count": null,
   "id": "5ebb668c",
   "metadata": {},
   "outputs": [],
   "source": [
    "import pandas as pd \n",
    "import numpy as np\n",
    "import os\n",
    "\n",
    "def arc_mobility(country_code):\n",
    "    if os.path.isfile('Global_Mobility_Report.csv.zip'):\n",
    "        fn = 'Global_Mobility_Report.csv.zip'\n",
    "        file_location = 'Disk'\n",
    "    else:\n",
    "        fn = 'https://www.gstatic.com/covid19/mobility/Global_Mobility_Report.csv'\n",
    "        file_location = 'Cloud'\n",
    "        \n",
    "    print(f'\\nThe mobility data location: {file_location}.\\n')\n",
    "    df = pd.read_csv(fn, low_memory=False)\n",
    "\n",
    "    df.columns = [x.replace('_percent_change_from_baseline', '').replace('_', ' ').strip().capitalize() for x in df]\n",
    "\n",
    "    df = df.set_index('Country region code')\n",
    "\n",
    "    df = df.loc[country_code, 'Date':'Residential']\n",
    "    df['Date']= pd.to_datetime(df['Date'])\n",
    "  \n",
    "    df = df.reset_index().set_index('Date')\n",
    "\n",
    "    df.drop(\"Country region code\", inplace=True, axis ='columns')\n",
    "\n",
    "    df /= 100\n",
    "\n",
    "    df.resample('W').mean().plot(figsize=(10,8), title= 'Mobility data: Change from Base line ('+ country_code + ').')\n",
    "    return df\n",
    "    \n",
    "dfnz = arc_mobility('NZ')"
   ]
  },
  {
   "cell_type": "code",
   "execution_count": null,
   "id": "16b14bdc",
   "metadata": {},
   "outputs": [],
   "source": [
    "dfnz"
   ]
  },
  {
   "cell_type": "markdown",
   "id": "1369c48f",
   "metadata": {},
   "source": [
    "\\* See documentation on copy [here](https://pandas.pydata.org/pandas-docs/stable/reference/api/pandas.DataFrame.copy.html)."
   ]
  }
 ],
 "metadata": {
  "kernelspec": {
   "display_name": "Python 3 (ipykernel)",
   "language": "python",
   "name": "python3"
  },
  "language_info": {
   "codemirror_mode": {
    "name": "ipython",
    "version": 3
   },
   "file_extension": ".py",
   "mimetype": "text/x-python",
   "name": "python",
   "nbconvert_exporter": "python",
   "pygments_lexer": "ipython3",
   "version": "3.8.12"
  }
 },
 "nbformat": 4,
 "nbformat_minor": 5
}
