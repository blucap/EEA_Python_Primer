{
 "cells": [
  {
   "cell_type": "markdown",
   "id": "b6a994a9",
   "metadata": {},
   "source": [
    "# Session 6: Use Pandas to index, split, apply, and combine data\n",
    "## Assignment 2"
   ]
  },
  {
   "cell_type": "markdown",
   "id": "53e48b34",
   "metadata": {},
   "source": [
    "## [EAA - ARC Python Primer for Accounting Research](https://martien.netlify.app/book/example/)"
   ]
  },
  {
   "cell_type": "markdown",
   "id": "1c56e4c9",
   "metadata": {},
   "source": [
    "#### EBA data and the evolution of [Fair-Value-Hierarchy](https://ifrscommunity.com/knowledge-base/fair-value-hierarchy/) data.\n",
    "\n",
    "---\n",
    "\n",
    "This assignment requires you examine the evolution of Level 1, 2, and 3 assets of European banks. \n",
    "\n",
    "The examination requires you to download and munge data from the EBA Risk Dashboard, which is part of the regular risk assessment conducted by the EBA and complements the Risk Assessment Report. \n",
    "\n",
    "The EBA Risk Dashboard summarizes the main risks and vulnerabilities in the banking sector in the European Union (EU) by looking at the evolution of Risk Indicators (RI) among a sample of banks across the EU.\n",
    "\n",
    "The [EBA Risk Dashboard pdf](https://www.eba.europa.eu/sites/default/documents/files/document_library/Risk%20Analysis%20and%20Data/Risk%20dashboard/Q3%202021/1025829/EBA%20Dashboard%20-%20Q3%202021%20v2.pdf?retry=1) has lots of tables, but for research purposes it is better to get the data in machine readable form.\n",
    "\n",
    "Luckily the EBA thought about us. Under the name [the intractive tool](https://www.eba.europa.eu/sites/default/documents/files/document_library/Risk%20Analysis%20and%20Data/Risk%20dashboard/Q3%202021/1025834/EBA%20Interactive%20Dashboard%20-%20Q3%202021%20-%20Protected.xlsm) they offer an Excel file with a treasure trove of data.\n",
    "\n",
    "This time we need the data from the `Statistical annex` of the EBA Risk Dashboard."
   ]
  },
  {
   "cell_type": "markdown",
   "id": "d160432b",
   "metadata": {},
   "source": [
    "---\n",
    "\n",
    "**Required (1)**: From the [EBA Risk Dashboard website](https://www.eba.europa.eu/risk-analysis-and-data/risk-dashboard), **download the [interactive tool](https://www.eba.europa.eu/sites/default/documents/files/document_library/Risk%20Analysis%20and%20Data/Risk%20dashboard/Q3%202021/1025834/EBA%20Interactive%20Dashboard%20-%20Q3%202021%20-%20Protected.xlsm)**: `EBA Interactive Dashboard - Q3 2021 - Protected.xlsm`.\n",
    "\n",
    "\n",
    "**Save** the file to a folder on your drive, e.g. `D:/users/my_user_name_here/EAA_python/data/`. See this [link](https://www.youtube.com/watch?v=hUW5MEKDtMM) and this [link](https://www.youtube.com/watch?v=7ABkcHLdG_A) for explanations of folders and directories.\n",
    "\n",
    "**Open the file using Excel**, to quickly get an overview of the data, specifically the data in the statistical annex. See sheets `Annex database`, `Data Annex`, and `Mapping`."
   ]
  },
  {
   "cell_type": "code",
   "execution_count": null,
   "id": "ec82174a",
   "metadata": {},
   "outputs": [],
   "source": [
    "# The usual preamble\n",
    "import pandas as pd\n",
    "import numpy as np\n",
    "import os\n",
    "\n",
    "if os.name=='nt':  # for Windows users\n",
    "    os.chdir('D:/users/my_user_name_here/EAA_python/data/')  # note the forward slashes, change 'martien' to your user name\n",
    "else:\n",
    "    os.chdir('/home/my_user_name_here/EAA_python/data/')  # For Linux or Mac"
   ]
  },
  {
   "cell_type": "code",
   "execution_count": null,
   "id": "e1eb5ef9",
   "metadata": {},
   "outputs": [],
   "source": [
    "# Set the file name:\n",
    "fn = 'EBA Interactive Dashboard - Q3 2021 - Protected.xlsm'"
   ]
  },
  {
   "cell_type": "markdown",
   "id": "74460e0e",
   "metadata": {},
   "source": [
    "---\n",
    "\n",
    "**Required (2)**: We know the data definition are hard to understand. Therefore: create a data frame with definitions from the sheet 'Mapping' in the Excel file. \n",
    "\n",
    "The data frame should have these column names `['Label', 'Item']`, the former should become the index.\n",
    "\n",
    "Use the `clean_text` function to eliminate line breaks form the `Item` variable."
   ]
  },
  {
   "cell_type": "code",
   "execution_count": null,
   "id": "a597b4f8",
   "metadata": {},
   "outputs": [],
   "source": [
    "def clean_text(s):\n",
    "    return s.replace('\\n', ' ').strip() # Get rid of line breaks and trim leading and lagging spaces. \n",
    "\n",
    "def annex_data_definitions(fn, sn):\n",
    "    #... read_excel here\n",
    "    #... name df.columns\n",
    "    #... clean df['Item']\n",
    "    #... set_index here\n",
    "    return df\n",
    "\n",
    "df_defs = annex_data_definitions(fn, 'Mapping')"
   ]
  },
  {
   "cell_type": "markdown",
   "id": "b45ee873",
   "metadata": {},
   "source": [
    "**For Jupyter notebook users only**: To show all frame rows in your notebook, use the following setting ([from Stackoverflow](https://stackoverflow.com/questions/47022070/display-all-dataframe-columns-in-a-jupyter-python-notebook))."
   ]
  },
  {
   "cell_type": "code",
   "execution_count": null,
   "id": "ab4124a4",
   "metadata": {},
   "outputs": [],
   "source": [
    "pd.options.display.max_rows = 200"
   ]
  },
  {
   "cell_type": "code",
   "execution_count": null,
   "id": "b972284b",
   "metadata": {
    "scrolled": true
   },
   "outputs": [],
   "source": [
    "df_defs"
   ]
  },
  {
   "cell_type": "markdown",
   "id": "54ac7b92",
   "metadata": {},
   "source": [
    "---\n",
    "\n",
    "**Required (3a)**: Create a data frame from the sheet: `Data Annex`, columns `L:M,O:AQ`. Name that data frame `df`.\n",
    "\n",
    "- While you are at it, include this parameter setting in your `pd.read_excel` statement: `na_values = 'n.a.'`. This converts all `n.a.` cells into a properly coded missing value.\n",
    "- Using Pandas [rename](https://pandas.pydata.org/pandas-docs/stable/reference/api/pandas.DataFrame.rename.html) function, change columns names as follows: `lbl`  to  `Label` and `NSA` to `Country`.\n",
    "- Eliminate rows from \"country\" EU.\n",
    "- Set `Label` and `Country` columns as index.\n",
    "\n"
   ]
  },
  {
   "cell_type": "code",
   "execution_count": null,
   "id": "e5844fdf",
   "metadata": {},
   "outputs": [],
   "source": [
    "\n",
    "\n",
    "\n"
   ]
  },
  {
   "cell_type": "code",
   "execution_count": null,
   "id": "122aa1f7",
   "metadata": {},
   "outputs": [],
   "source": [
    "df"
   ]
  },
  {
   "cell_type": "markdown",
   "id": "e3ba75f5",
   "metadata": {},
   "source": [
    "---\n",
    "\n",
    "**Required (3b)**: Use `melt` to create a long data frame from `df`. Name that data frame `dfm`.\n",
    "\n",
    "- `id_vars` should be `['Label', 'Country']`.\n",
    "- `value_vars` should be the list of column names of `df`.\n",
    "- `var_name` should be `Date`, \n",
    "- `value_name` should be `value`.\n",
    "\n",
    "In next steps:\n",
    "- use `Label` and `Country` as index\n",
    "- use `dropna()` to eliminate missing `value` observations from `dfm`.\n",
    "Note, to make it work, apply `melt` to the the reset data frame: `df.reset_index()`"
   ]
  },
  {
   "cell_type": "code",
   "execution_count": null,
   "id": "0b3c91ba",
   "metadata": {},
   "outputs": [],
   "source": [
    "# Melt\n"
   ]
  },
  {
   "cell_type": "code",
   "execution_count": null,
   "id": "d7008534",
   "metadata": {},
   "outputs": [],
   "source": [
    "dfm.head(3) "
   ]
  },
  {
   "cell_type": "code",
   "execution_count": null,
   "id": "3ae1be11",
   "metadata": {},
   "outputs": [],
   "source": [
    "# Dropna\n"
   ]
  },
  {
   "cell_type": "code",
   "execution_count": null,
   "id": "9e480013",
   "metadata": {},
   "outputs": [],
   "source": [
    "dfm.tail(3) "
   ]
  },
  {
   "cell_type": "code",
   "execution_count": null,
   "id": "a2846f23",
   "metadata": {},
   "outputs": [],
   "source": [
    "# Set index\n"
   ]
  },
  {
   "cell_type": "code",
   "execution_count": null,
   "id": "44da30c6",
   "metadata": {
    "scrolled": true
   },
   "outputs": [],
   "source": [
    "dfm.head(3) "
   ]
  },
  {
   "cell_type": "code",
   "execution_count": null,
   "id": "dcd28099",
   "metadata": {},
   "outputs": [],
   "source": [
    "dfm.tail(3) "
   ]
  },
  {
   "cell_type": "code",
   "execution_count": null,
   "id": "400b6b2c",
   "metadata": {},
   "outputs": [],
   "source": [
    "# Using dfm, check Return on Equity ('T28_1') for German banks (DE) - ignore the error warning\n",
    "print(df_defs.loc[...])\n",
    "dfm.loc[('.....', '..')]['value'].plot()"
   ]
  },
  {
   "cell_type": "markdown",
   "id": "71710c25",
   "metadata": {},
   "source": [
    "---\n",
    "\n",
    "**Required (3b)**: Using `pd.pivot_table`, create a pivoted data frame (`dfp`) from `dfm`.\n",
    "\n",
    "- `values` should be `value`, \n",
    "- `index` should be `Country` and `Date`, \n",
    "- `columns` should be `Label`.\n",
    "\n"
   ]
  },
  {
   "cell_type": "code",
   "execution_count": null,
   "id": "c6dfed68",
   "metadata": {},
   "outputs": [],
   "source": [
    "# Pivot table:\n",
    "...\n",
    "dfp"
   ]
  },
  {
   "cell_type": "markdown",
   "id": "d73bd50b",
   "metadata": {},
   "source": [
    "Check total assets for Dutch banks `NL`."
   ]
  },
  {
   "cell_type": "code",
   "execution_count": null,
   "id": "b3f53b47",
   "metadata": {},
   "outputs": [],
   "source": [
    "dfp['T02_1'].loc['NL'].plot(kind='bar')"
   ]
  },
  {
   "cell_type": "markdown",
   "id": "c0c04ce4",
   "metadata": {},
   "source": [
    "**Required (3c)**: Check Level 3 assets `T14_3` for Greek banks (GR). But note, get rid of the entries with values of zero. Do so by using `.replace(0, np.NaN).dropna()`."
   ]
  },
  {
   "cell_type": "code",
   "execution_count": null,
   "id": "117040cb",
   "metadata": {
    "scrolled": true
   },
   "outputs": [],
   "source": [
    "\n",
    "dfp['.....'].loc['..']. ... .plot(kind='bar')"
   ]
  },
  {
   "cell_type": "markdown",
   "id": "42ab7d53",
   "metadata": {},
   "source": [
    "---"
   ]
  },
  {
   "cell_type": "code",
   "execution_count": null,
   "id": "0188eb8f",
   "metadata": {},
   "outputs": [],
   "source": [
    "# Variables of interest:\n",
    "\n",
    "print(df_defs.loc['T14_1'])\n",
    "print(df_defs.loc['T14_1'])\n",
    "print(df_defs.loc['T14_1'])"
   ]
  },
  {
   "cell_type": "markdown",
   "id": "0e4aa844",
   "metadata": {},
   "source": [
    "---\n",
    "\n",
    "**Required (4a)**: Group variables of the fair value hierarchy (`T14_1`, `T14_2`, `T14_3`) in `dfp` by `Country` and plot the means of these variables using a bar-plot with figsize=(18,6)."
   ]
  },
  {
   "cell_type": "code",
   "execution_count": null,
   "id": "3e99b175",
   "metadata": {},
   "outputs": [],
   "source": [
    "dfp[['T14_1','T14_2','T14_3']].groupby('Country').mean().plot(kind='bar', figsize=(18,6))"
   ]
  },
  {
   "cell_type": "markdown",
   "id": "fb2ffdac",
   "metadata": {},
   "source": [
    "---\n",
    "\n",
    "**Required (4b)**: Create a `groupby` object and use it to plot the means of the variables (`T14_1`, `T14_2`, `T14_3`) by `Date` using a bar-plot.\n",
    "\n",
    "Follow these steps:\n",
    "\n",
    "- first create the `groupby` object named `df_gp_date`,\n",
    "- using `df_gp_date` check the mean values of the three variables (`T14_1`, `T14_2`, `T14_3`),\n",
    "- using `df_gp_date` check the mean values of the three variables - and assign the resulting frame to a new data frame named: `df_levels`,\n",
    "- replace all zero-values  in `df_levels` from the frame by NaNs,\n",
    "- eliminate empty rows from the frame using `dropna()`,\n",
    "- plot the resulting data frame."
   ]
  },
  {
   "cell_type": "code",
   "execution_count": null,
   "id": "e501428e",
   "metadata": {},
   "outputs": [],
   "source": [
    "# Create the groupby object \n"
   ]
  },
  {
   "cell_type": "code",
   "execution_count": null,
   "id": "13a00894",
   "metadata": {},
   "outputs": [],
   "source": [
    "# Check its means for df_gp_date[['T14_1','T14_2','T14_3']]\n"
   ]
  },
  {
   "cell_type": "code",
   "execution_count": null,
   "id": "10ee63ad",
   "metadata": {},
   "outputs": [],
   "source": [
    "# Create df_levels from the groupby object \n"
   ]
  },
  {
   "cell_type": "code",
   "execution_count": null,
   "id": "dce9590c",
   "metadata": {},
   "outputs": [],
   "source": [
    "# plot the non-zero rows\n"
   ]
  }
 ],
 "metadata": {
  "kernelspec": {
   "display_name": "Python 3 (ipykernel)",
   "language": "python",
   "name": "python3"
  },
  "language_info": {
   "codemirror_mode": {
    "name": "ipython",
    "version": 3
   },
   "file_extension": ".py",
   "mimetype": "text/x-python",
   "name": "python",
   "nbconvert_exporter": "python",
   "pygments_lexer": "ipython3",
   "version": "3.8.12"
  }
 },
 "nbformat": 4,
 "nbformat_minor": 5
}
